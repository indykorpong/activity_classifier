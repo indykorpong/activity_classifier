{
 "cells": [
  {
   "cell_type": "code",
   "execution_count": 62,
   "metadata": {},
   "outputs": [],
   "source": [
    "import tensorflow as tf\n",
    "from keras.applications.vgg19 import VGG19, preprocess_input\n",
    "from keras.preprocessing.image import ImageDataGenerator\n",
    "from keras.preprocessing.image import load_img\n",
    "from keras.preprocessing.image import img_to_array\n",
    "from keras.layers import GlobalAveragePooling2D, Dense, Dropout, Flatten\n",
    "from keras.layers.convolutional import Conv2D\n",
    "from keras.layers.pooling import MaxPooling2D\n",
    "from keras.models import Model\n",
    "from keras import optimizers \n",
    "from keras import regularizers\n",
    "from keras.callbacks import ModelCheckpoint,EarlyStopping,ReduceLROnPlateau\n",
    "from time import time\n",
    "from keras.models import load_model\n",
    "from sklearn.metrics import confusion_matrix\n",
    "from keras.models import Sequential\n",
    "from keras.layers import Activation, Dense\n",
    "\n",
    "from keras.utils import np_utils\n",
    "\n",
    "import matplotlib.pyplot as plt\n",
    "import numpy as np\n",
    "np.random.seed(12)\n",
    "from scipy import stats\n",
    "from sklearn import metrics\n",
    "from sklearn.model_selection import train_test_split\n",
    "import matplotlib.pyplot as plt\n",
    "\n",
    "\n",
    "from sklearn.metrics import classification_report, f1_score, accuracy_score\n",
    "import glob\n",
    "import warnings\n",
    "import pandas as pd\n",
    "import numpy as np\n",
    "\n",
    "import os"
   ]
  },
  {
   "cell_type": "markdown",
   "metadata": {},
   "source": [
    "## Load dataset"
   ]
  },
  {
   "cell_type": "code",
   "execution_count": 63,
   "metadata": {
    "collapsed": true
   },
   "outputs": [],
   "source": [
    "path_dataset = \"Dataset/WISDM/WISDM_ar_v1.1/a.txt\""
   ]
  },
  {
   "cell_type": "code",
   "execution_count": 64,
   "metadata": {},
   "outputs": [
    {
     "data": {
      "text/html": [
       "<div>\n",
       "<style>\n",
       "    .dataframe thead tr:only-child th {\n",
       "        text-align: right;\n",
       "    }\n",
       "\n",
       "    .dataframe thead th {\n",
       "        text-align: left;\n",
       "    }\n",
       "\n",
       "    .dataframe tbody tr th {\n",
       "        vertical-align: top;\n",
       "    }\n",
       "</style>\n",
       "<table border=\"1\" class=\"dataframe\">\n",
       "  <thead>\n",
       "    <tr style=\"text-align: right;\">\n",
       "      <th></th>\n",
       "      <th>user</th>\n",
       "      <th>activity</th>\n",
       "      <th>timestamp</th>\n",
       "      <th>x-axis</th>\n",
       "      <th>y-axis</th>\n",
       "      <th>z-axis</th>\n",
       "    </tr>\n",
       "  </thead>\n",
       "  <tbody>\n",
       "    <tr>\n",
       "      <th>0</th>\n",
       "      <td>33</td>\n",
       "      <td>Jogging</td>\n",
       "      <td>49105962326000</td>\n",
       "      <td>-0.694638</td>\n",
       "      <td>12.680544</td>\n",
       "      <td>0.503953</td>\n",
       "    </tr>\n",
       "    <tr>\n",
       "      <th>1</th>\n",
       "      <td>33</td>\n",
       "      <td>Jogging</td>\n",
       "      <td>49106062271000</td>\n",
       "      <td>5.012288</td>\n",
       "      <td>11.264028</td>\n",
       "      <td>0.953424</td>\n",
       "    </tr>\n",
       "    <tr>\n",
       "      <th>2</th>\n",
       "      <td>33</td>\n",
       "      <td>Jogging</td>\n",
       "      <td>49106112167000</td>\n",
       "      <td>4.903325</td>\n",
       "      <td>10.882658</td>\n",
       "      <td>-0.081722</td>\n",
       "    </tr>\n",
       "    <tr>\n",
       "      <th>3</th>\n",
       "      <td>33</td>\n",
       "      <td>Jogging</td>\n",
       "      <td>49106222305000</td>\n",
       "      <td>-0.612916</td>\n",
       "      <td>18.496431</td>\n",
       "      <td>3.023717</td>\n",
       "    </tr>\n",
       "    <tr>\n",
       "      <th>4</th>\n",
       "      <td>33</td>\n",
       "      <td>Jogging</td>\n",
       "      <td>49106332290000</td>\n",
       "      <td>-1.184970</td>\n",
       "      <td>12.108489</td>\n",
       "      <td>7.205164</td>\n",
       "    </tr>\n",
       "    <tr>\n",
       "      <th>5</th>\n",
       "      <td>33</td>\n",
       "      <td>Jogging</td>\n",
       "      <td>49106442306000</td>\n",
       "      <td>1.375655</td>\n",
       "      <td>-2.492524</td>\n",
       "      <td>-6.510526</td>\n",
       "    </tr>\n",
       "    <tr>\n",
       "      <th>6</th>\n",
       "      <td>33</td>\n",
       "      <td>Jogging</td>\n",
       "      <td>49106542312000</td>\n",
       "      <td>-0.612916</td>\n",
       "      <td>10.569390</td>\n",
       "      <td>5.706926</td>\n",
       "    </tr>\n",
       "    <tr>\n",
       "      <th>7</th>\n",
       "      <td>33</td>\n",
       "      <td>Jogging</td>\n",
       "      <td>49106652389000</td>\n",
       "      <td>-0.503953</td>\n",
       "      <td>13.947236</td>\n",
       "      <td>7.055340</td>\n",
       "    </tr>\n",
       "    <tr>\n",
       "      <th>8</th>\n",
       "      <td>33</td>\n",
       "      <td>Jogging</td>\n",
       "      <td>49106762313000</td>\n",
       "      <td>-8.430995</td>\n",
       "      <td>11.413852</td>\n",
       "      <td>5.134871</td>\n",
       "    </tr>\n",
       "    <tr>\n",
       "      <th>9</th>\n",
       "      <td>33</td>\n",
       "      <td>Jogging</td>\n",
       "      <td>49106872299000</td>\n",
       "      <td>0.953424</td>\n",
       "      <td>1.375655</td>\n",
       "      <td>1.648062</td>\n",
       "    </tr>\n",
       "    <tr>\n",
       "      <th>10</th>\n",
       "      <td>33</td>\n",
       "      <td>Jogging</td>\n",
       "      <td>49106982315000</td>\n",
       "      <td>-8.199450</td>\n",
       "      <td>19.572440</td>\n",
       "      <td>2.724070</td>\n",
       "    </tr>\n",
       "    <tr>\n",
       "      <th>11</th>\n",
       "      <td>33</td>\n",
       "      <td>Jogging</td>\n",
       "      <td>49107092330000</td>\n",
       "      <td>1.416516</td>\n",
       "      <td>5.788648</td>\n",
       "      <td>2.982856</td>\n",
       "    </tr>\n",
       "    <tr>\n",
       "      <th>12</th>\n",
       "      <td>33</td>\n",
       "      <td>Jogging</td>\n",
       "      <td>49107202316000</td>\n",
       "      <td>-1.879608</td>\n",
       "      <td>-2.982856</td>\n",
       "      <td>-0.299648</td>\n",
       "    </tr>\n",
       "    <tr>\n",
       "      <th>13</th>\n",
       "      <td>33</td>\n",
       "      <td>Jogging</td>\n",
       "      <td>49107312332000</td>\n",
       "      <td>-6.129157</td>\n",
       "      <td>6.851035</td>\n",
       "      <td>-8.158588</td>\n",
       "    </tr>\n",
       "    <tr>\n",
       "      <th>14</th>\n",
       "      <td>33</td>\n",
       "      <td>Jogging</td>\n",
       "      <td>49107422348000</td>\n",
       "      <td>5.829509</td>\n",
       "      <td>18.006100</td>\n",
       "      <td>8.539958</td>\n",
       "    </tr>\n",
       "    <tr>\n",
       "      <th>15</th>\n",
       "      <td>33</td>\n",
       "      <td>Jogging</td>\n",
       "      <td>49107522293000</td>\n",
       "      <td>6.278980</td>\n",
       "      <td>2.982856</td>\n",
       "      <td>2.914754</td>\n",
       "    </tr>\n",
       "    <tr>\n",
       "      <th>16</th>\n",
       "      <td>33</td>\n",
       "      <td>Jogging</td>\n",
       "      <td>49107632339000</td>\n",
       "      <td>-1.566340</td>\n",
       "      <td>8.308413</td>\n",
       "      <td>-1.457377</td>\n",
       "    </tr>\n",
       "    <tr>\n",
       "      <th>17</th>\n",
       "      <td>33</td>\n",
       "      <td>Jogging</td>\n",
       "      <td>49107742355000</td>\n",
       "      <td>3.527670</td>\n",
       "      <td>13.593107</td>\n",
       "      <td>9.425281</td>\n",
       "    </tr>\n",
       "    <tr>\n",
       "      <th>18</th>\n",
       "      <td>33</td>\n",
       "      <td>Jogging</td>\n",
       "      <td>49107852340000</td>\n",
       "      <td>-2.029432</td>\n",
       "      <td>-5.706926</td>\n",
       "      <td>-10.188020</td>\n",
       "    </tr>\n",
       "    <tr>\n",
       "      <th>19</th>\n",
       "      <td>33</td>\n",
       "      <td>Jogging</td>\n",
       "      <td>49107962326000</td>\n",
       "      <td>2.764931</td>\n",
       "      <td>10.337844</td>\n",
       "      <td>-9.724928</td>\n",
       "    </tr>\n",
       "    <tr>\n",
       "      <th>20</th>\n",
       "      <td>33</td>\n",
       "      <td>Jogging</td>\n",
       "      <td>49108062271000</td>\n",
       "      <td>3.568531</td>\n",
       "      <td>13.674830</td>\n",
       "      <td>1.539099</td>\n",
       "    </tr>\n",
       "    <tr>\n",
       "      <th>21</th>\n",
       "      <td>33</td>\n",
       "      <td>Jogging</td>\n",
       "      <td>49108172348000</td>\n",
       "      <td>-0.503953</td>\n",
       "      <td>3.868179</td>\n",
       "      <td>3.718355</td>\n",
       "    </tr>\n",
       "    <tr>\n",
       "      <th>22</th>\n",
       "      <td>33</td>\n",
       "      <td>Jogging</td>\n",
       "      <td>49108272262000</td>\n",
       "      <td>-2.301839</td>\n",
       "      <td>1.688923</td>\n",
       "      <td>0.081722</td>\n",
       "    </tr>\n",
       "    <tr>\n",
       "      <th>23</th>\n",
       "      <td>33</td>\n",
       "      <td>Jogging</td>\n",
       "      <td>49108382370000</td>\n",
       "      <td>-3.568531</td>\n",
       "      <td>19.572440</td>\n",
       "      <td>6.510526</td>\n",
       "    </tr>\n",
       "    <tr>\n",
       "      <th>24</th>\n",
       "      <td>33</td>\n",
       "      <td>Jogging</td>\n",
       "      <td>49108492294000</td>\n",
       "      <td>-0.803601</td>\n",
       "      <td>-3.296124</td>\n",
       "      <td>-4.630918</td>\n",
       "    </tr>\n",
       "    <tr>\n",
       "      <th>25</th>\n",
       "      <td>33</td>\n",
       "      <td>Jogging</td>\n",
       "      <td>49108602371000</td>\n",
       "      <td>0.503953</td>\n",
       "      <td>10.841797</td>\n",
       "      <td>13.525005</td>\n",
       "    </tr>\n",
       "    <tr>\n",
       "      <th>26</th>\n",
       "      <td>33</td>\n",
       "      <td>Jogging</td>\n",
       "      <td>49108702285000</td>\n",
       "      <td>5.706926</td>\n",
       "      <td>15.595298</td>\n",
       "      <td>6.170018</td>\n",
       "    </tr>\n",
       "    <tr>\n",
       "      <th>27</th>\n",
       "      <td>33</td>\n",
       "      <td>Jogging</td>\n",
       "      <td>49108812332000</td>\n",
       "      <td>-8.662541</td>\n",
       "      <td>7.273266</td>\n",
       "      <td>4.018003</td>\n",
       "    </tr>\n",
       "    <tr>\n",
       "      <th>28</th>\n",
       "      <td>33</td>\n",
       "      <td>Jogging</td>\n",
       "      <td>49108922378000</td>\n",
       "      <td>-1.334794</td>\n",
       "      <td>1.225831</td>\n",
       "      <td>2.369940</td>\n",
       "    </tr>\n",
       "    <tr>\n",
       "      <th>29</th>\n",
       "      <td>33</td>\n",
       "      <td>Jogging</td>\n",
       "      <td>49109022293000</td>\n",
       "      <td>-4.590057</td>\n",
       "      <td>19.572440</td>\n",
       "      <td>4.712640</td>\n",
       "    </tr>\n",
       "    <tr>\n",
       "      <th>...</th>\n",
       "      <td>...</td>\n",
       "      <td>...</td>\n",
       "      <td>...</td>\n",
       "      <td>...</td>\n",
       "      <td>...</td>\n",
       "      <td>...</td>\n",
       "    </tr>\n",
       "    <tr>\n",
       "      <th>1098174</th>\n",
       "      <td>19</td>\n",
       "      <td>Sitting</td>\n",
       "      <td>131622091524000</td>\n",
       "      <td>8.920000</td>\n",
       "      <td>-1.270000</td>\n",
       "      <td>2.220000</td>\n",
       "    </tr>\n",
       "    <tr>\n",
       "      <th>1098175</th>\n",
       "      <td>19</td>\n",
       "      <td>Sitting</td>\n",
       "      <td>131622131471000</td>\n",
       "      <td>8.960000</td>\n",
       "      <td>-1.310000</td>\n",
       "      <td>2.260000</td>\n",
       "    </tr>\n",
       "    <tr>\n",
       "      <th>1098176</th>\n",
       "      <td>19</td>\n",
       "      <td>Sitting</td>\n",
       "      <td>131622171541000</td>\n",
       "      <td>8.920000</td>\n",
       "      <td>-1.330000</td>\n",
       "      <td>2.180000</td>\n",
       "    </tr>\n",
       "    <tr>\n",
       "      <th>1098177</th>\n",
       "      <td>19</td>\n",
       "      <td>Sitting</td>\n",
       "      <td>131622211580000</td>\n",
       "      <td>8.850000</td>\n",
       "      <td>-1.420000</td>\n",
       "      <td>2.260000</td>\n",
       "    </tr>\n",
       "    <tr>\n",
       "      <th>1098178</th>\n",
       "      <td>19</td>\n",
       "      <td>Sitting</td>\n",
       "      <td>131622291475000</td>\n",
       "      <td>8.880000</td>\n",
       "      <td>-1.380000</td>\n",
       "      <td>2.410000</td>\n",
       "    </tr>\n",
       "    <tr>\n",
       "      <th>1098179</th>\n",
       "      <td>19</td>\n",
       "      <td>Sitting</td>\n",
       "      <td>131622331483000</td>\n",
       "      <td>8.920000</td>\n",
       "      <td>-1.310000</td>\n",
       "      <td>2.300000</td>\n",
       "    </tr>\n",
       "    <tr>\n",
       "      <th>1098180</th>\n",
       "      <td>19</td>\n",
       "      <td>Sitting</td>\n",
       "      <td>131622371522000</td>\n",
       "      <td>8.920000</td>\n",
       "      <td>-1.140000</td>\n",
       "      <td>2.260000</td>\n",
       "    </tr>\n",
       "    <tr>\n",
       "      <th>1098181</th>\n",
       "      <td>19</td>\n",
       "      <td>Sitting</td>\n",
       "      <td>131622451479000</td>\n",
       "      <td>8.960000</td>\n",
       "      <td>-1.120000</td>\n",
       "      <td>2.340000</td>\n",
       "    </tr>\n",
       "    <tr>\n",
       "      <th>1098182</th>\n",
       "      <td>19</td>\n",
       "      <td>Sitting</td>\n",
       "      <td>131622491487000</td>\n",
       "      <td>9.040000</td>\n",
       "      <td>-1.120000</td>\n",
       "      <td>2.410000</td>\n",
       "    </tr>\n",
       "    <tr>\n",
       "      <th>1098183</th>\n",
       "      <td>19</td>\n",
       "      <td>Sitting</td>\n",
       "      <td>131622531465000</td>\n",
       "      <td>8.880000</td>\n",
       "      <td>-1.120000</td>\n",
       "      <td>2.370000</td>\n",
       "    </tr>\n",
       "    <tr>\n",
       "      <th>1098184</th>\n",
       "      <td>19</td>\n",
       "      <td>Sitting</td>\n",
       "      <td>131622571443000</td>\n",
       "      <td>8.880000</td>\n",
       "      <td>-1.140000</td>\n",
       "      <td>2.370000</td>\n",
       "    </tr>\n",
       "    <tr>\n",
       "      <th>1098185</th>\n",
       "      <td>19</td>\n",
       "      <td>Sitting</td>\n",
       "      <td>131622611635000</td>\n",
       "      <td>8.920000</td>\n",
       "      <td>-1.230000</td>\n",
       "      <td>2.450000</td>\n",
       "    </tr>\n",
       "    <tr>\n",
       "      <th>1098186</th>\n",
       "      <td>19</td>\n",
       "      <td>Sitting</td>\n",
       "      <td>131622691469000</td>\n",
       "      <td>8.920000</td>\n",
       "      <td>-1.230000</td>\n",
       "      <td>2.450000</td>\n",
       "    </tr>\n",
       "    <tr>\n",
       "      <th>1098187</th>\n",
       "      <td>19</td>\n",
       "      <td>Sitting</td>\n",
       "      <td>131622731477000</td>\n",
       "      <td>8.770000</td>\n",
       "      <td>-1.330000</td>\n",
       "      <td>2.530000</td>\n",
       "    </tr>\n",
       "    <tr>\n",
       "      <th>1098188</th>\n",
       "      <td>19</td>\n",
       "      <td>Sitting</td>\n",
       "      <td>131622771486000</td>\n",
       "      <td>8.960000</td>\n",
       "      <td>-1.380000</td>\n",
       "      <td>2.600000</td>\n",
       "    </tr>\n",
       "    <tr>\n",
       "      <th>1098189</th>\n",
       "      <td>19</td>\n",
       "      <td>Sitting</td>\n",
       "      <td>131622851472000</td>\n",
       "      <td>8.500000</td>\n",
       "      <td>-1.500000</td>\n",
       "      <td>2.560000</td>\n",
       "    </tr>\n",
       "    <tr>\n",
       "      <th>1098190</th>\n",
       "      <td>19</td>\n",
       "      <td>Sitting</td>\n",
       "      <td>131622891511000</td>\n",
       "      <td>8.270000</td>\n",
       "      <td>-1.650000</td>\n",
       "      <td>2.110000</td>\n",
       "    </tr>\n",
       "    <tr>\n",
       "      <th>1098191</th>\n",
       "      <td>19</td>\n",
       "      <td>Sitting</td>\n",
       "      <td>131622931490000</td>\n",
       "      <td>8.960000</td>\n",
       "      <td>-1.460000</td>\n",
       "      <td>2.300000</td>\n",
       "    </tr>\n",
       "    <tr>\n",
       "      <th>1098192</th>\n",
       "      <td>19</td>\n",
       "      <td>Sitting</td>\n",
       "      <td>131622971498000</td>\n",
       "      <td>9.230000</td>\n",
       "      <td>-1.460000</td>\n",
       "      <td>2.260000</td>\n",
       "    </tr>\n",
       "    <tr>\n",
       "      <th>1098193</th>\n",
       "      <td>19</td>\n",
       "      <td>Sitting</td>\n",
       "      <td>131623051485000</td>\n",
       "      <td>8.850000</td>\n",
       "      <td>-1.230000</td>\n",
       "      <td>2.260000</td>\n",
       "    </tr>\n",
       "    <tr>\n",
       "      <th>1098194</th>\n",
       "      <td>19</td>\n",
       "      <td>Sitting</td>\n",
       "      <td>131623091524000</td>\n",
       "      <td>8.540000</td>\n",
       "      <td>-1.310000</td>\n",
       "      <td>2.490000</td>\n",
       "    </tr>\n",
       "    <tr>\n",
       "      <th>1098195</th>\n",
       "      <td>19</td>\n",
       "      <td>Sitting</td>\n",
       "      <td>131623131471000</td>\n",
       "      <td>8.660000</td>\n",
       "      <td>-1.310000</td>\n",
       "      <td>2.370000</td>\n",
       "    </tr>\n",
       "    <tr>\n",
       "      <th>1098196</th>\n",
       "      <td>19</td>\n",
       "      <td>Sitting</td>\n",
       "      <td>131623172578000</td>\n",
       "      <td>8.850000</td>\n",
       "      <td>-1.270000</td>\n",
       "      <td>2.180000</td>\n",
       "    </tr>\n",
       "    <tr>\n",
       "      <th>1098197</th>\n",
       "      <td>19</td>\n",
       "      <td>Sitting</td>\n",
       "      <td>131623251466000</td>\n",
       "      <td>9.110000</td>\n",
       "      <td>-1.380000</td>\n",
       "      <td>1.950000</td>\n",
       "    </tr>\n",
       "    <tr>\n",
       "      <th>1098198</th>\n",
       "      <td>19</td>\n",
       "      <td>Sitting</td>\n",
       "      <td>131623291475000</td>\n",
       "      <td>9.000000</td>\n",
       "      <td>-1.500000</td>\n",
       "      <td>1.800000</td>\n",
       "    </tr>\n",
       "    <tr>\n",
       "      <th>1098199</th>\n",
       "      <td>19</td>\n",
       "      <td>Sitting</td>\n",
       "      <td>131623331483000</td>\n",
       "      <td>9.000000</td>\n",
       "      <td>-1.570000</td>\n",
       "      <td>1.690000</td>\n",
       "    </tr>\n",
       "    <tr>\n",
       "      <th>1098200</th>\n",
       "      <td>19</td>\n",
       "      <td>Sitting</td>\n",
       "      <td>131623371431000</td>\n",
       "      <td>9.040000</td>\n",
       "      <td>-1.460000</td>\n",
       "      <td>1.730000</td>\n",
       "    </tr>\n",
       "    <tr>\n",
       "      <th>1098201</th>\n",
       "      <td>19</td>\n",
       "      <td>Sitting</td>\n",
       "      <td>131623411592000</td>\n",
       "      <td>9.080000</td>\n",
       "      <td>-1.380000</td>\n",
       "      <td>1.690000</td>\n",
       "    </tr>\n",
       "    <tr>\n",
       "      <th>1098202</th>\n",
       "      <td>19</td>\n",
       "      <td>Sitting</td>\n",
       "      <td>131623491487000</td>\n",
       "      <td>9.000000</td>\n",
       "      <td>-1.460000</td>\n",
       "      <td>1.730000</td>\n",
       "    </tr>\n",
       "    <tr>\n",
       "      <th>1098203</th>\n",
       "      <td>19</td>\n",
       "      <td>Sitting</td>\n",
       "      <td>131623531465000</td>\n",
       "      <td>8.880000</td>\n",
       "      <td>-1.330000</td>\n",
       "      <td>1.610000</td>\n",
       "    </tr>\n",
       "  </tbody>\n",
       "</table>\n",
       "<p>1098204 rows × 6 columns</p>\n",
       "</div>"
      ],
      "text/plain": [
       "         user activity        timestamp    x-axis     y-axis     z-axis\n",
       "0          33  Jogging   49105962326000 -0.694638  12.680544   0.503953\n",
       "1          33  Jogging   49106062271000  5.012288  11.264028   0.953424\n",
       "2          33  Jogging   49106112167000  4.903325  10.882658  -0.081722\n",
       "3          33  Jogging   49106222305000 -0.612916  18.496431   3.023717\n",
       "4          33  Jogging   49106332290000 -1.184970  12.108489   7.205164\n",
       "5          33  Jogging   49106442306000  1.375655  -2.492524  -6.510526\n",
       "6          33  Jogging   49106542312000 -0.612916  10.569390   5.706926\n",
       "7          33  Jogging   49106652389000 -0.503953  13.947236   7.055340\n",
       "8          33  Jogging   49106762313000 -8.430995  11.413852   5.134871\n",
       "9          33  Jogging   49106872299000  0.953424   1.375655   1.648062\n",
       "10         33  Jogging   49106982315000 -8.199450  19.572440   2.724070\n",
       "11         33  Jogging   49107092330000  1.416516   5.788648   2.982856\n",
       "12         33  Jogging   49107202316000 -1.879608  -2.982856  -0.299648\n",
       "13         33  Jogging   49107312332000 -6.129157   6.851035  -8.158588\n",
       "14         33  Jogging   49107422348000  5.829509  18.006100   8.539958\n",
       "15         33  Jogging   49107522293000  6.278980   2.982856   2.914754\n",
       "16         33  Jogging   49107632339000 -1.566340   8.308413  -1.457377\n",
       "17         33  Jogging   49107742355000  3.527670  13.593107   9.425281\n",
       "18         33  Jogging   49107852340000 -2.029432  -5.706926 -10.188020\n",
       "19         33  Jogging   49107962326000  2.764931  10.337844  -9.724928\n",
       "20         33  Jogging   49108062271000  3.568531  13.674830   1.539099\n",
       "21         33  Jogging   49108172348000 -0.503953   3.868179   3.718355\n",
       "22         33  Jogging   49108272262000 -2.301839   1.688923   0.081722\n",
       "23         33  Jogging   49108382370000 -3.568531  19.572440   6.510526\n",
       "24         33  Jogging   49108492294000 -0.803601  -3.296124  -4.630918\n",
       "25         33  Jogging   49108602371000  0.503953  10.841797  13.525005\n",
       "26         33  Jogging   49108702285000  5.706926  15.595298   6.170018\n",
       "27         33  Jogging   49108812332000 -8.662541   7.273266   4.018003\n",
       "28         33  Jogging   49108922378000 -1.334794   1.225831   2.369940\n",
       "29         33  Jogging   49109022293000 -4.590057  19.572440   4.712640\n",
       "...       ...      ...              ...       ...        ...        ...\n",
       "1098174    19  Sitting  131622091524000  8.920000  -1.270000   2.220000\n",
       "1098175    19  Sitting  131622131471000  8.960000  -1.310000   2.260000\n",
       "1098176    19  Sitting  131622171541000  8.920000  -1.330000   2.180000\n",
       "1098177    19  Sitting  131622211580000  8.850000  -1.420000   2.260000\n",
       "1098178    19  Sitting  131622291475000  8.880000  -1.380000   2.410000\n",
       "1098179    19  Sitting  131622331483000  8.920000  -1.310000   2.300000\n",
       "1098180    19  Sitting  131622371522000  8.920000  -1.140000   2.260000\n",
       "1098181    19  Sitting  131622451479000  8.960000  -1.120000   2.340000\n",
       "1098182    19  Sitting  131622491487000  9.040000  -1.120000   2.410000\n",
       "1098183    19  Sitting  131622531465000  8.880000  -1.120000   2.370000\n",
       "1098184    19  Sitting  131622571443000  8.880000  -1.140000   2.370000\n",
       "1098185    19  Sitting  131622611635000  8.920000  -1.230000   2.450000\n",
       "1098186    19  Sitting  131622691469000  8.920000  -1.230000   2.450000\n",
       "1098187    19  Sitting  131622731477000  8.770000  -1.330000   2.530000\n",
       "1098188    19  Sitting  131622771486000  8.960000  -1.380000   2.600000\n",
       "1098189    19  Sitting  131622851472000  8.500000  -1.500000   2.560000\n",
       "1098190    19  Sitting  131622891511000  8.270000  -1.650000   2.110000\n",
       "1098191    19  Sitting  131622931490000  8.960000  -1.460000   2.300000\n",
       "1098192    19  Sitting  131622971498000  9.230000  -1.460000   2.260000\n",
       "1098193    19  Sitting  131623051485000  8.850000  -1.230000   2.260000\n",
       "1098194    19  Sitting  131623091524000  8.540000  -1.310000   2.490000\n",
       "1098195    19  Sitting  131623131471000  8.660000  -1.310000   2.370000\n",
       "1098196    19  Sitting  131623172578000  8.850000  -1.270000   2.180000\n",
       "1098197    19  Sitting  131623251466000  9.110000  -1.380000   1.950000\n",
       "1098198    19  Sitting  131623291475000  9.000000  -1.500000   1.800000\n",
       "1098199    19  Sitting  131623331483000  9.000000  -1.570000   1.690000\n",
       "1098200    19  Sitting  131623371431000  9.040000  -1.460000   1.730000\n",
       "1098201    19  Sitting  131623411592000  9.080000  -1.380000   1.690000\n",
       "1098202    19  Sitting  131623491487000  9.000000  -1.460000   1.730000\n",
       "1098203    19  Sitting  131623531465000  8.880000  -1.330000   1.610000\n",
       "\n",
       "[1098204 rows x 6 columns]"
      ]
     },
     "execution_count": 64,
     "metadata": {},
     "output_type": "execute_result"
    }
   ],
   "source": [
    "columns = ['user','activity','timestamp', 'x-axis', 'y-axis', 'z-axis']\n",
    "df = pd.read_csv(path_dataset, header = None, names = columns )\n",
    "df"
   ]
  },
  {
   "cell_type": "code",
   "execution_count": 65,
   "metadata": {
    "collapsed": true
   },
   "outputs": [],
   "source": [
    "df =df[df.activity != 'Jogging']"
   ]
  },
  {
   "cell_type": "code",
   "execution_count": 66,
   "metadata": {
    "collapsed": true
   },
   "outputs": [],
   "source": [
    "df = df[df.activity != 'Downstairs']"
   ]
  },
  {
   "cell_type": "code",
   "execution_count": 67,
   "metadata": {},
   "outputs": [
    {
     "name": "stdout",
     "output_type": "stream",
     "text": [
      "Number of null values in each column:\n",
      "user         0\n",
      "activity     0\n",
      "timestamp    0\n",
      "x-axis       0\n",
      "y-axis       0\n",
      "z-axis       1\n",
      "dtype: int64\n"
     ]
    }
   ],
   "source": [
    "null_counts = df.isnull().sum()\n",
    "print(\"Number of null values in each column:\\n{}\".format(null_counts))"
   ]
  },
  {
   "cell_type": "code",
   "execution_count": 68,
   "metadata": {},
   "outputs": [
    {
     "name": "stdout",
     "output_type": "stream",
     "text": [
      "597        Walking\n",
      "598        Walking\n",
      "599        Walking\n",
      "600        Walking\n",
      "601        Walking\n",
      "602        Walking\n",
      "603        Walking\n",
      "604        Walking\n",
      "605        Walking\n",
      "606        Walking\n",
      "607        Walking\n",
      "608        Walking\n",
      "609        Walking\n",
      "610        Walking\n",
      "611        Walking\n",
      "612        Walking\n",
      "613        Walking\n",
      "614        Walking\n",
      "615        Walking\n",
      "616        Walking\n",
      "617        Walking\n",
      "618        Walking\n",
      "619        Walking\n",
      "620        Walking\n",
      "621        Walking\n",
      "622        Walking\n",
      "623        Walking\n",
      "624        Walking\n",
      "625        Walking\n",
      "626        Walking\n",
      "            ...   \n",
      "1098174    Sitting\n",
      "1098175    Sitting\n",
      "1098176    Sitting\n",
      "1098177    Sitting\n",
      "1098178    Sitting\n",
      "1098179    Sitting\n",
      "1098180    Sitting\n",
      "1098181    Sitting\n",
      "1098182    Sitting\n",
      "1098183    Sitting\n",
      "1098184    Sitting\n",
      "1098185    Sitting\n",
      "1098186    Sitting\n",
      "1098187    Sitting\n",
      "1098188    Sitting\n",
      "1098189    Sitting\n",
      "1098190    Sitting\n",
      "1098191    Sitting\n",
      "1098192    Sitting\n",
      "1098193    Sitting\n",
      "1098194    Sitting\n",
      "1098195    Sitting\n",
      "1098196    Sitting\n",
      "1098197    Sitting\n",
      "1098198    Sitting\n",
      "1098199    Sitting\n",
      "1098200    Sitting\n",
      "1098201    Sitting\n",
      "1098202    Sitting\n",
      "1098203    Sitting\n",
      "Name: activity, Length: 655601, dtype: object\n"
     ]
    }
   ],
   "source": [
    "print(df['activity'])"
   ]
  },
  {
   "cell_type": "markdown",
   "metadata": {},
   "source": [
    "## Data preprocessing"
   ]
  },
  {
   "cell_type": "code",
   "execution_count": 69,
   "metadata": {
    "scrolled": true
   },
   "outputs": [
    {
     "name": "stderr",
     "output_type": "stream",
     "text": [
      "C:\\Users\\fifamd\\Anaconda3\\envs\\tf\\lib\\site-packages\\scipy\\stats\\stats.py:253: RuntimeWarning: The input array could not be properly checked for nan values. nan values will be ignored.\n",
      "  \"values. nan values will be ignored.\", RuntimeWarning)\n"
     ]
    }
   ],
   "source": [
    "N_TIME_STEPS = 60\n",
    "N_FEATURES = 3\n",
    "step = 124\n",
    "segments = []\n",
    "labels = []\n",
    "for i in range(0, len(df) - N_TIME_STEPS, step):\n",
    "    xs = df['x-axis'].values[i: i + N_TIME_STEPS]\n",
    "    ys = df['y-axis'].values[i: i + N_TIME_STEPS]\n",
    "    zs = df['z-axis'].values[i: i + N_TIME_STEPS]\n",
    "    label = stats.mode(df['activity'][i: i + N_TIME_STEPS])[0][0]\n",
    "    segments.append([xs, ys, zs])\n",
    "    labels.append(label)"
   ]
  },
  {
   "cell_type": "code",
   "execution_count": 70,
   "metadata": {
    "collapsed": true
   },
   "outputs": [],
   "source": [
    "reshaped_segments = np.asarray(segments, dtype= np.float32).reshape(-1, N_TIME_STEPS, N_FEATURES)\n",
    "labels = np.asarray(pd.get_dummies(labels), dtype = np.float32)"
   ]
  },
  {
   "cell_type": "code",
   "execution_count": 71,
   "metadata": {
    "collapsed": true
   },
   "outputs": [],
   "source": [
    "RANDOM_SEED = 42"
   ]
  },
  {
   "cell_type": "code",
   "execution_count": 72,
   "metadata": {
    "collapsed": true
   },
   "outputs": [],
   "source": [
    "X_train, X_test, y_train, y_test = train_test_split(reshaped_segments, labels, test_size=0.2, random_state=RANDOM_SEED)"
   ]
  },
  {
   "cell_type": "code",
   "execution_count": 73,
   "metadata": {},
   "outputs": [
    {
     "name": "stdout",
     "output_type": "stream",
     "text": [
      "5287\n"
     ]
    }
   ],
   "source": [
    "print(len(segments))"
   ]
  },
  {
   "cell_type": "markdown",
   "metadata": {},
   "source": [
    "## Transfer"
   ]
  },
  {
   "cell_type": "code",
   "execution_count": 74,
   "metadata": {
    "collapsed": true
   },
   "outputs": [],
   "source": [
    "from keras.models import Model\n",
    "from keras.layers import Input, Dense,LSTM\n",
    "from keras.layers.convolutional import Conv1D\n",
    "from keras.layers.pooling import MaxPooling1D\n",
    "from keras import optimizers \n",
    "from keras import regularizers\n",
    "from keras.callbacks import ModelCheckpoint,EarlyStopping,ReduceLROnPlateau\n",
    "\n",
    "from tensorflow import set_random_seed\n",
    "\n",
    "import matplotlib.pyplot as plt\n",
    "import numpy as np\n",
    "\n",
    "\n",
    "from sklearn.metrics import classification_report, f1_score, accuracy_score"
   ]
  },
  {
   "cell_type": "code",
   "execution_count": 75,
   "metadata": {
    "collapsed": true
   },
   "outputs": [],
   "source": [
    "def f1_score_metric(y_true, y_pred):\n",
    "    y_true = tf.cast(y_true, \"int32\")\n",
    "    y_pred = tf.cast(tf.round(y_pred), \"int32\") # implicit 0.5 threshold via tf.round\n",
    "    y_correct = y_true * y_pred\n",
    "    sum_true = tf.reduce_sum(y_true, axis=1)\n",
    "    sum_pred = tf.reduce_sum(y_pred, axis=1)\n",
    "    sum_correct = tf.reduce_sum(y_correct, axis=1)\n",
    "    precision = sum_correct / sum_pred\n",
    "    recall = sum_correct / sum_true\n",
    "    f_score = 5 * precision * recall / (4 * precision + recall)\n",
    "    f_score = tf.where(tf.is_nan(f_score), tf.zeros_like(f_score), f_score)\n",
    "    return tf.reduce_mean(f_score)"
   ]
  },
  {
   "cell_type": "code",
   "execution_count": 76,
   "metadata": {},
   "outputs": [
    {
     "name": "stdout",
     "output_type": "stream",
     "text": [
      "(4229, 60, 3)\n",
      "(4229, 4)\n",
      "(5287, 60, 3)\n",
      "60 3\n",
      "[[ 0.  0.  0.  1.]\n",
      " [ 0.  0.  0.  1.]\n",
      " [ 0.  0.  0.  1.]\n",
      " ..., \n",
      " [ 0.  0.  0.  1.]\n",
      " [ 0.  0.  1.  0.]\n",
      " [ 0.  0.  0.  1.]]\n"
     ]
    }
   ],
   "source": [
    "print(X_train.shape)\n",
    "print(y_train.shape)\n",
    "print(reshaped_segments.shape)\n",
    "numOfRows = reshaped_segments.shape[1]\n",
    "numOfColumns = reshaped_segments.shape[2]\n",
    "filters = 32\n",
    "Epochs = 100\n",
    "batchSize = 10\n",
    "num_class = 4\n",
    "print(numOfRows , numOfColumns)\n",
    "print(y_train)"
   ]
  },
  {
   "cell_type": "markdown",
   "metadata": {
    "collapsed": true
   },
   "source": [
    "## Model"
   ]
  },
  {
   "cell_type": "code",
   "execution_count": 77,
   "metadata": {
    "collapsed": true
   },
   "outputs": [],
   "source": [
    "def TCNN():\n",
    "    base_model1 = Input(shape=(numOfRows,numOfColumns))\n",
    "    base_model = Conv1D(filters,(11),activation = 'relu')(base_model1)\n",
    "    base_model = MaxPooling1D(pool_size=2)(base_model)\n",
    "    base_model = Conv1D(filters,(11), activation = 'relu')(base_model)\n",
    "    base_model = MaxPooling1D(pool_size=2)(base_model)\n",
    "\n",
    "    base_model = LSTM(128)(base_model)\n",
    "\n",
    "    base_model = Dense(256)(base_model)\n",
    "    base_model = Dropout(0.5)(base_model)\n",
    "    base_model = Dense(4,activation=\"softmax\")(base_model)\n",
    "    model = Model(inputs=[base_model1], outputs=base_model)\n",
    "    adam = optimizers.Adam(lr = 0.001, decay=1e-6)\n",
    "    model.compile(loss='categorical_crossentropy', optimizer=adam, metrics=['accuracy'])\n",
    "    return model"
   ]
  },
  {
   "cell_type": "code",
   "execution_count": 78,
   "metadata": {
    "scrolled": false
   },
   "outputs": [
    {
     "name": "stdout",
     "output_type": "stream",
     "text": [
      "_________________________________________________________________\n",
      "Layer (type)                 Output Shape              Param #   \n",
      "=================================================================\n",
      "input_2 (InputLayer)         (None, 60, 3)             0         \n",
      "_________________________________________________________________\n",
      "conv1d_3 (Conv1D)            (None, 50, 32)            1088      \n",
      "_________________________________________________________________\n",
      "max_pooling1d_3 (MaxPooling1 (None, 25, 32)            0         \n",
      "_________________________________________________________________\n",
      "conv1d_4 (Conv1D)            (None, 15, 32)            11296     \n",
      "_________________________________________________________________\n",
      "max_pooling1d_4 (MaxPooling1 (None, 7, 32)             0         \n",
      "_________________________________________________________________\n",
      "lstm_2 (LSTM)                (None, 128)               82432     \n",
      "_________________________________________________________________\n",
      "dense_3 (Dense)              (None, 256)               33024     \n",
      "_________________________________________________________________\n",
      "dropout_2 (Dropout)          (None, 256)               0         \n",
      "_________________________________________________________________\n",
      "dense_4 (Dense)              (None, 4)                 1028      \n",
      "=================================================================\n",
      "Total params: 128,868\n",
      "Trainable params: 128,868\n",
      "Non-trainable params: 0\n",
      "_________________________________________________________________\n",
      "Train on 3383 samples, validate on 846 samples\n",
      "Epoch 1/100\n",
      "3296/3383 [============================>.] - ETA: 0s - loss: 0.5537 - acc: 0.7812\n",
      "Epoch 00001: val_acc improved from -inf to 0.83333, saving model to ./model/model_1/model_1.h5\n",
      "3383/3383 [==============================] - 4s 1ms/step - loss: 0.5511 - acc: 0.7827 - val_loss: 0.4215 - val_acc: 0.8333\n",
      "Epoch 2/100\n",
      "3328/3383 [============================>.] - ETA: 0s - loss: 0.3200 - acc: 0.8786\n",
      "Epoch 00002: val_acc improved from 0.83333 to 0.91726, saving model to ./model/model_1/model_1.h5\n",
      "3383/3383 [==============================] - 2s 632us/step - loss: 0.3196 - acc: 0.8782 - val_loss: 0.2271 - val_acc: 0.9173\n",
      "Epoch 3/100\n",
      "3360/3383 [============================>.] - ETA: 0s - loss: 0.2457 - acc: 0.9051\n",
      "Epoch 00003: val_acc improved from 0.91726 to 0.92671, saving model to ./model/model_1/model_1.h5\n",
      "3383/3383 [==============================] - 2s 603us/step - loss: 0.2447 - acc: 0.9057 - val_loss: 0.2222 - val_acc: 0.9267\n",
      "Epoch 4/100\n",
      "3296/3383 [============================>.] - ETA: 0s - loss: 0.1884 - acc: 0.9339\n",
      "Epoch 00004: val_acc did not improve\n",
      "3383/3383 [==============================] - 2s 626us/step - loss: 0.1897 - acc: 0.9335 - val_loss: 0.2891 - val_acc: 0.8936\n",
      "Epoch 5/100\n",
      "3360/3383 [============================>.] - ETA: 0s - loss: 0.1503 - acc: 0.9494- ETA\n",
      "Epoch 00005: val_acc improved from 0.92671 to 0.93735, saving model to ./model/model_1/model_1.h5\n",
      "3383/3383 [==============================] - 2s 673us/step - loss: 0.1496 - acc: 0.9497 - val_loss: 0.2076 - val_acc: 0.9374\n",
      "Epoch 6/100\n",
      "3328/3383 [============================>.] - ETA: 0s - loss: 0.1470 - acc: 0.9498\n",
      "Epoch 00006: val_acc improved from 0.93735 to 0.93972, saving model to ./model/model_1/model_1.h5\n",
      "3383/3383 [==============================] - 2s 660us/step - loss: 0.1458 - acc: 0.9503 - val_loss: 0.1826 - val_acc: 0.9397\n",
      "Epoch 7/100\n",
      "3328/3383 [============================>.] - ETA: 0s - loss: 0.1029 - acc: 0.9663\n",
      "Epoch 00007: val_acc improved from 0.93972 to 0.94681, saving model to ./model/model_1/model_1.h5\n",
      "3383/3383 [==============================] - 2s 670us/step - loss: 0.1029 - acc: 0.9663 - val_loss: 0.1838 - val_acc: 0.9468\n",
      "Epoch 8/100\n",
      "3296/3383 [============================>.] - ETA: 0s - loss: 0.1008 - acc: 0.9645\n",
      "Epoch 00008: val_acc did not improve\n",
      "3383/3383 [==============================] - 2s 645us/step - loss: 0.1013 - acc: 0.9642 - val_loss: 0.2134 - val_acc: 0.9397\n",
      "Epoch 9/100\n",
      "3296/3383 [============================>.] - ETA: 0s - loss: 0.0699 - acc: 0.9751\n",
      "Epoch 00009: val_acc did not improve\n",
      "3383/3383 [==============================] - 2s 702us/step - loss: 0.0688 - acc: 0.9755 - val_loss: 0.2383 - val_acc: 0.9444\n",
      "Epoch 10/100\n",
      "3360/3383 [============================>.] - ETA: 0s - loss: 0.0639 - acc: 0.9783\n",
      "Epoch 00010: val_acc did not improve\n",
      "3383/3383 [==============================] - 2s 684us/step - loss: 0.0637 - acc: 0.9784 - val_loss: 0.2186 - val_acc: 0.9444\n",
      "Epoch 11/100\n",
      "3328/3383 [============================>.] - ETA: 0s - loss: 0.0383 - acc: 0.9886\n",
      "Epoch 00011: val_acc did not improve\n",
      "3383/3383 [==============================] - 2s 714us/step - loss: 0.0378 - acc: 0.9888 - val_loss: 0.2329 - val_acc: 0.9456\n",
      "Epoch 12/100\n",
      "3328/3383 [============================>.] - ETA: 0s - loss: 0.0406 - acc: 0.9856\n",
      "Epoch 00012: val_acc did not improve\n",
      "3383/3383 [==============================] - 2s 638us/step - loss: 0.0400 - acc: 0.9858 - val_loss: 0.2628 - val_acc: 0.9444\n",
      "Epoch 13/100\n",
      "3360/3383 [============================>.] - ETA: 0s - loss: 0.0382 - acc: 0.9866\n",
      "Epoch 00013: val_acc did not improve\n",
      "3383/3383 [==============================] - 2s 582us/step - loss: 0.0380 - acc: 0.9867 - val_loss: 0.2280 - val_acc: 0.9456\n",
      "Epoch 14/100\n",
      "3296/3383 [============================>.] - ETA: 0s - loss: 0.0209 - acc: 0.9942\n",
      "Epoch 00014: val_acc improved from 0.94681 to 0.94799, saving model to ./model/model_1/model_1.h5\n",
      "3383/3383 [==============================] - 2s 585us/step - loss: 0.0224 - acc: 0.9938 - val_loss: 0.2759 - val_acc: 0.9480\n",
      "Epoch 15/100\n",
      "3360/3383 [============================>.] - ETA: 0s - loss: 0.0302 - acc: 0.9896\n",
      "Epoch 00015: val_acc did not improve\n",
      "3383/3383 [==============================] - 2s 576us/step - loss: 0.0310 - acc: 0.9894 - val_loss: 0.2981 - val_acc: 0.9468\n",
      "Epoch 16/100\n",
      "3296/3383 [============================>.] - ETA: 0s - loss: 0.0468 - acc: 0.9854\n",
      "Epoch 00016: val_acc did not improve\n",
      "3383/3383 [==============================] - 2s 576us/step - loss: 0.0456 - acc: 0.9858 - val_loss: 0.2741 - val_acc: 0.9433\n",
      "Epoch 17/100\n",
      "3360/3383 [============================>.] - ETA: 0s - loss: 0.0242 - acc: 0.9917\n",
      "Epoch 00017: val_acc did not improve\n",
      "3383/3383 [==============================] - 2s 578us/step - loss: 0.0241 - acc: 0.9917 - val_loss: 0.4425 - val_acc: 0.9338\n",
      "Epoch 18/100\n",
      "3360/3383 [============================>.] - ETA: 0s - loss: 0.0409 - acc: 0.9854\n",
      "Epoch 00018: val_acc did not improve\n",
      "3383/3383 [==============================] - 2s 583us/step - loss: 0.0412 - acc: 0.9852 - val_loss: 0.3965 - val_acc: 0.9255\n",
      "Epoch 19/100\n",
      "3328/3383 [============================>.] - ETA: 0s - loss: 0.0380 - acc: 0.9874\n",
      "Epoch 00019: val_acc did not improve\n",
      "3383/3383 [==============================] - 2s 580us/step - loss: 0.0375 - acc: 0.9876 - val_loss: 0.3028 - val_acc: 0.9385\n",
      "Epoch 20/100\n",
      "3296/3383 [============================>.] - ETA: 0s - loss: 0.0200 - acc: 0.9924\n",
      "Epoch 00020: val_acc did not improve\n",
      "3383/3383 [==============================] - 2s 579us/step - loss: 0.0196 - acc: 0.9926 - val_loss: 0.3711 - val_acc: 0.9409\n",
      "Epoch 21/100\n",
      "3328/3383 [============================>.] - ETA: 0s - loss: 0.0247 - acc: 0.9901\n",
      "Epoch 00021: val_acc improved from 0.94799 to 0.94917, saving model to ./model/model_1/model_1.h5\n",
      "3383/3383 [==============================] - 2s 584us/step - loss: 0.0244 - acc: 0.9902 - val_loss: 0.3015 - val_acc: 0.9492\n",
      "Epoch 22/100\n",
      "3328/3383 [============================>.] - ETA: 0s - loss: 0.0101 - acc: 0.9970\n",
      "Epoch 00022: val_acc did not improve\n",
      "3383/3383 [==============================] - 2s 576us/step - loss: 0.0099 - acc: 0.9970 - val_loss: 0.3664 - val_acc: 0.9480\n",
      "Epoch 23/100\n",
      "3264/3383 [===========================>..] - ETA: 0s - loss: 0.0369 - acc: 0.9868\n",
      "Epoch 00023: val_acc did not improve\n",
      "3383/3383 [==============================] - 2s 568us/step - loss: 0.0401 - acc: 0.9861 - val_loss: 0.4209 - val_acc: 0.9350\n",
      "Epoch 24/100\n",
      "3360/3383 [============================>.] - ETA: 0s - loss: 0.0134 - acc: 0.9955\n",
      "Epoch 00024: val_acc improved from 0.94917 to 0.95272, saving model to ./model/model_1/model_1.h5\n",
      "3383/3383 [==============================] - 2s 586us/step - loss: 0.0134 - acc: 0.9956 - val_loss: 0.2623 - val_acc: 0.9527\n"
     ]
    },
    {
     "name": "stdout",
     "output_type": "stream",
     "text": [
      "Epoch 25/100\n",
      "3328/3383 [============================>.] - ETA: 0s - loss: 0.0107 - acc: 0.9964\n",
      "Epoch 00025: val_acc did not improve\n",
      "3383/3383 [==============================] - 2s 543us/step - loss: 0.0106 - acc: 0.9965 - val_loss: 0.3319 - val_acc: 0.9468\n",
      "Epoch 26/100\n",
      "3328/3383 [============================>.] - ETA: 0s - loss: 0.0107 - acc: 0.9967\n",
      "Epoch 00026: val_acc did not improve\n",
      "3383/3383 [==============================] - 2s 537us/step - loss: 0.0105 - acc: 0.9967 - val_loss: 0.3117 - val_acc: 0.9504\n",
      "Epoch 27/100\n",
      "3296/3383 [============================>.] - ETA: 0s - loss: 0.0059 - acc: 0.9985\n",
      "Epoch 00027: val_acc did not improve\n",
      "3383/3383 [==============================] - 2s 542us/step - loss: 0.0063 - acc: 0.9982 - val_loss: 0.2865 - val_acc: 0.9515\n",
      "Epoch 28/100\n",
      "3264/3383 [===========================>..] - ETA: 0s - loss: 0.0077 - acc: 0.9969\n",
      "Epoch 00028: val_acc did not improve\n",
      "3383/3383 [==============================] - 2s 538us/step - loss: 0.0075 - acc: 0.9970 - val_loss: 0.3463 - val_acc: 0.9456\n",
      "Epoch 29/100\n",
      "3328/3383 [============================>.] - ETA: 0s - loss: 0.0215 - acc: 0.9946\n",
      "Epoch 00029: val_acc did not improve\n",
      "3383/3383 [==============================] - 2s 536us/step - loss: 0.0212 - acc: 0.9947 - val_loss: 0.3556 - val_acc: 0.9468\n",
      "Epoch 30/100\n",
      "3360/3383 [============================>.] - ETA: 0s - loss: 0.0553 - acc: 0.9836\n",
      "Epoch 00030: val_acc did not improve\n",
      "3383/3383 [==============================] - 2s 552us/step - loss: 0.0550 - acc: 0.9837 - val_loss: 0.3204 - val_acc: 0.9350\n",
      "Epoch 31/100\n",
      "3264/3383 [===========================>..] - ETA: 0s - loss: 0.0369 - acc: 0.9871\n",
      "Epoch 00031: val_acc did not improve\n",
      "3383/3383 [==============================] - 2s 552us/step - loss: 0.0358 - acc: 0.9876 - val_loss: 0.2822 - val_acc: 0.9504\n",
      "Epoch 32/100\n",
      "3264/3383 [===========================>..] - ETA: 0s - loss: 0.0076 - acc: 0.9982\n",
      "Epoch 00032: val_acc did not improve\n",
      "3383/3383 [==============================] - 2s 539us/step - loss: 0.0075 - acc: 0.9982 - val_loss: 0.2515 - val_acc: 0.9492\n",
      "Epoch 33/100\n",
      "3296/3383 [============================>.] - ETA: 0s - loss: 0.0036 - acc: 0.9991\n",
      "Epoch 00033: val_acc did not improve\n",
      "3383/3383 [==============================] - 2s 540us/step - loss: 0.0035 - acc: 0.9991 - val_loss: 0.2749 - val_acc: 0.9492\n",
      "Epoch 34/100\n",
      "3264/3383 [===========================>..] - ETA: 0s - loss: 0.0032 - acc: 0.9997\n",
      "Epoch 00034: val_acc did not improve\n",
      "3383/3383 [==============================] - 2s 534us/step - loss: 0.0031 - acc: 0.9997 - val_loss: 0.2734 - val_acc: 0.9504\n",
      "Epoch 35/100\n",
      "3360/3383 [============================>.] - ETA: 0s - loss: 0.0015 - acc: 0.9997\n",
      "Epoch 00035: val_acc did not improve\n",
      "\n",
      "Epoch 00035: ReduceLROnPlateau reducing learning rate to 0.00010000000474974513.\n",
      "3383/3383 [==============================] - 2s 603us/step - loss: 0.0015 - acc: 0.9997 - val_loss: 0.2841 - val_acc: 0.9456\n",
      "Epoch 36/100\n",
      "3296/3383 [============================>.] - ETA: 0s - loss: 0.0011 - acc: 0.9994\n",
      "Epoch 00036: val_acc did not improve\n",
      "3383/3383 [==============================] - 2s 542us/step - loss: 0.0011 - acc: 0.9994 - val_loss: 0.2811 - val_acc: 0.9504\n",
      "Epoch 37/100\n",
      "3264/3383 [===========================>..] - ETA: 0s - loss: 7.4421e-04 - acc: 0.9997\n",
      "Epoch 00037: val_acc did not improve\n",
      "3383/3383 [==============================] - 2s 551us/step - loss: 7.3481e-04 - acc: 0.9997 - val_loss: 0.2819 - val_acc: 0.9492\n",
      "Epoch 38/100\n",
      "3328/3383 [============================>.] - ETA: 0s - loss: 6.5065e-04 - acc: 0.9997\n",
      "Epoch 00038: val_acc did not improve\n",
      "3383/3383 [==============================] - 2s 553us/step - loss: 6.5124e-04 - acc: 0.9997 - val_loss: 0.2827 - val_acc: 0.9492\n",
      "Epoch 39/100\n",
      "3296/3383 [============================>.] - ETA: 0s - loss: 5.7872e-04 - acc: 1.0000\n",
      "Epoch 00039: val_acc did not improve\n",
      "3383/3383 [==============================] - 2s 560us/step - loss: 6.1107e-04 - acc: 1.0000 - val_loss: 0.2836 - val_acc: 0.9504\n",
      "Epoch 40/100\n",
      "3264/3383 [===========================>..] - ETA: 0s - loss: 4.5674e-04 - acc: 1.0000\n",
      "Epoch 00040: val_acc did not improve\n",
      "3383/3383 [==============================] - 2s 568us/step - loss: 4.5061e-04 - acc: 1.0000 - val_loss: 0.2839 - val_acc: 0.9504\n",
      "Epoch 41/100\n",
      "3264/3383 [===========================>..] - ETA: 0s - loss: 6.5483e-04 - acc: 0.9997\n",
      "Epoch 00041: val_acc did not improve\n",
      "3383/3383 [==============================] - 2s 551us/step - loss: 6.4688e-04 - acc: 0.9997 - val_loss: 0.2850 - val_acc: 0.9504\n",
      "Epoch 42/100\n",
      "3360/3383 [============================>.] - ETA: 0s - loss: 4.7092e-04 - acc: 1.0000\n",
      "Epoch 00042: val_acc did not improve\n",
      "3383/3383 [==============================] - 2s 565us/step - loss: 4.6930e-04 - acc: 1.0000 - val_loss: 0.2857 - val_acc: 0.9504\n",
      "Epoch 43/100\n",
      "3296/3383 [============================>.] - ETA: 0s - loss: 5.9079e-04 - acc: 0.9997\n",
      "Epoch 00043: val_acc did not improve\n",
      "3383/3383 [==============================] - 2s 563us/step - loss: 5.8327e-04 - acc: 0.9997 - val_loss: 0.2864 - val_acc: 0.9504\n",
      "Epoch 44/100\n",
      "3360/3383 [============================>.] - ETA: 0s - loss: 3.7830e-04 - acc: 1.0000\n",
      "Epoch 00044: val_acc did not improve\n",
      "3383/3383 [==============================] - 2s 555us/step - loss: 3.7631e-04 - acc: 1.0000 - val_loss: 0.2877 - val_acc: 0.9504\n"
     ]
    }
   ],
   "source": [
    "m = TCNN()\n",
    "m.summary()\n",
    "\n",
    "# Callbacks\n",
    "reduce_lr = ReduceLROnPlateau(monitor='val_acc', mode='max', factor=0.1, patience=10,\n",
    "                                verbose=1, cooldown=5, min_lr=0)\n",
    "early_stopper = EarlyStopping(monitor='val_acc', min_delta=0, \n",
    "                           patience=20, verbose=0, mode='max')\n",
    "\n",
    "model_1_path = \"./model/model_1/{}.h5\".format(\"model_1\")\n",
    "checkpoint = ModelCheckpoint(model_1_path, monitor='val_acc', verbose=1,save_best_only=True,save_weights_only=False, mode='max',period=1)\n",
    "callbacks_list = [checkpoint,early_stopper,reduce_lr]\n",
    "\n",
    "history = m.fit(X_train,y_train, validation_split = 0.2, epochs = Epochs, callbacks=callbacks_list, verbose =1)"
   ]
  },
  {
   "cell_type": "markdown",
   "metadata": {},
   "source": [
    "## Plot acc and loss"
   ]
  },
  {
   "cell_type": "code",
   "execution_count": 79,
   "metadata": {},
   "outputs": [
    {
     "data": {
      "image/png": "[encoded data removed]",
      "text/plain": [
       "<Figure size 432x288 with 1 Axes>"
      ]
     },
     "metadata": {},
     "output_type": "display_data"
    }
   ],
   "source": [
    "plt.plot(history.history['acc'])\n",
    "plt.plot(history.history['val_acc'])\n",
    "plt.title('model accuracy')\n",
    "plt.ylabel('accuracy')\n",
    "plt.xlabel('epoch')\n",
    "plt.legend(['train', 'test'], loc='upper left')\n",
    "plt.show()"
   ]
  },
  {
   "cell_type": "code",
   "execution_count": 80,
   "metadata": {},
   "outputs": [
    {
     "data": {
      "image/png": "[encoded data removed]",
      "text/plain": [
       "<Figure size 432x288 with 1 Axes>"
      ]
     },
     "metadata": {},
     "output_type": "display_data"
    }
   ],
   "source": [
    "plt.plot(history.history['loss'])\n",
    "plt.plot(history.history['val_loss'])\n",
    "plt.title('model loss')\n",
    "plt.ylabel('loss')\n",
    "plt.xlabel('epoch')\n",
    "plt.legend(['train', 'test'], loc='upper left')\n",
    "plt.show()"
   ]
  },
  {
   "cell_type": "markdown",
   "metadata": {},
   "source": [
    "## Predict"
   ]
  },
  {
   "cell_type": "code",
   "execution_count": 81,
   "metadata": {
    "collapsed": true
   },
   "outputs": [],
   "source": [
    "label = ['Walking','Standing','Sitting','Upstaris']"
   ]
  },
  {
   "cell_type": "code",
   "execution_count": 82,
   "metadata": {
    "collapsed": true
   },
   "outputs": [],
   "source": [
    "y_pred = m.predict(X_test)"
   ]
  },
  {
   "cell_type": "code",
   "execution_count": 83,
   "metadata": {
    "collapsed": true
   },
   "outputs": [],
   "source": [
    "y_pred = np.argmax(y_pred, axis=1)"
   ]
  },
  {
   "cell_type": "code",
   "execution_count": 84,
   "metadata": {
    "collapsed": true
   },
   "outputs": [],
   "source": [
    "y_pred = np_utils.to_categorical(y_pred, num_class)"
   ]
  },
  {
   "cell_type": "code",
   "execution_count": 85,
   "metadata": {
    "collapsed": true
   },
   "outputs": [],
   "source": [
    "y_pred = np.array(y_pred)\n",
    "y_test = np.array(y_test)"
   ]
  },
  {
   "cell_type": "code",
   "execution_count": 86,
   "metadata": {},
   "outputs": [
    {
     "name": "stdout",
     "output_type": "stream",
     "text": [
      "[[ 0.  0.  0.  1.]\n",
      " [ 0.  0.  0.  1.]\n",
      " [ 0.  0.  0.  1.]\n",
      " ..., \n",
      " [ 0.  0.  0.  1.]\n",
      " [ 0.  0.  0.  1.]\n",
      " [ 0.  0.  0.  1.]]\n",
      "[[ 0.  0.  0.  1.]\n",
      " [ 0.  0.  0.  1.]\n",
      " [ 0.  0.  0.  1.]\n",
      " ..., \n",
      " [ 0.  0.  0.  1.]\n",
      " [ 0.  0.  0.  1.]\n",
      " [ 0.  0.  0.  1.]]\n"
     ]
    }
   ],
   "source": [
    "print(y_pred)\n",
    "print(y_test)"
   ]
  },
  {
   "cell_type": "markdown",
   "metadata": {},
   "source": [
    "## Visualization"
   ]
  },
  {
   "cell_type": "code",
   "execution_count": 87,
   "metadata": {
    "collapsed": true
   },
   "outputs": [],
   "source": [
    "%run eval_score.ipynb"
   ]
  },
  {
   "cell_type": "code",
   "execution_count": 88,
   "metadata": {},
   "outputs": [
    {
     "data": {
      "image/png": "[encoded data removed]",
      "text/plain": [
       "<Figure size 432x288 with 2 Axes>"
      ]
     },
     "metadata": {},
     "output_type": "display_data"
    },
    {
     "data": {
      "image/png": "[encoded data removed]",
      "text/plain": [
       "<Figure size 432x288 with 2 Axes>"
      ]
     },
     "metadata": {},
     "output_type": "display_data"
    }
   ],
   "source": [
    "show_conf_matrix(y_test.argmax(axis=1), y_pred.argmax(axis=1), label)"
   ]
  },
  {
   "cell_type": "code",
   "execution_count": 89,
   "metadata": {},
   "outputs": [
    {
     "name": "stdout",
     "output_type": "stream",
     "text": [
      "             precision    recall  f1-score   support\n",
      "\n",
      "    Walking       0.97      0.99      0.98        79\n",
      "   Standing       0.97      0.99      0.98        79\n",
      "    Sitting       0.89      0.84      0.87       221\n",
      "   Upstaris       0.95      0.97      0.96       679\n",
      "\n",
      "avg / total       0.94      0.94      0.94      1058\n",
      "\n"
     ]
    }
   ],
   "source": [
    "show_clf_report(y_test, y_pred, label)"
   ]
  },
  {
   "cell_type": "markdown",
   "metadata": {},
   "source": [
    "## Save Model and Weight"
   ]
  },
  {
   "cell_type": "code",
   "execution_count": 90,
   "metadata": {
    "collapsed": true
   },
   "outputs": [],
   "source": [
    "m.save_weights(\"./model/model_2.1.h5\")\n",
    "m.save(\"./model/Arc_model_2.1.h5\")"
   ]
  },
  {
   "cell_type": "markdown",
   "metadata": {},
   "source": [
    "## Other Dataset"
   ]
  },
  {
   "cell_type": "code",
   "execution_count": 91,
   "metadata": {},
   "outputs": [
    {
     "name": "stdout",
     "output_type": "stream",
     "text": [
      "Loading 1001's data\n",
      "Loading 1002's data\n",
      "Loading 1003's data\n",
      "Loading 1004's data\n",
      "Loading 1005's data\n",
      "Loading 1006's data\n",
      "Loading 1007's data\n",
      "Loading 1008's data\n",
      "Loading 1009's data\n",
      "Loading 1010's data\n",
      "Loading 1011's data\n",
      "Loading 1012's data\n",
      "Loading 2001's data\n",
      "Loading 2002's data\n",
      "Finished loading\n"
     ]
    }
   ],
   "source": [
    "%run load_dataset.ipynb"
   ]
  },
  {
   "cell_type": "markdown",
   "metadata": {},
   "source": [
    "## Data preprocessing"
   ]
  },
  {
   "cell_type": "code",
   "execution_count": 92,
   "metadata": {
    "collapsed": true
   },
   "outputs": [],
   "source": [
    "%run preprocess_for_SVM.ipynb"
   ]
  },
  {
   "cell_type": "code",
   "execution_count": 93,
   "metadata": {
    "collapsed": true
   },
   "outputs": [],
   "source": [
    "subj_train = ['1001','1002','1003','1004','2001']\n",
    "subj_val = ['1005','1006','2002']\n",
    "subj_test = ['1007','1008','1009']"
   ]
  },
  {
   "cell_type": "code",
   "execution_count": 94,
   "metadata": {
    "collapsed": true
   },
   "outputs": [],
   "source": [
    "def get_X_y(subj_ids, X, y, s):\n",
    "    X_get = []\n",
    "    y_get = []\n",
    "    s_get = []\n",
    "    for i in range(len(s)):\n",
    "        for j in range(len(subj_ids)):\n",
    "            if(s[i]==subj_ids[j]):\n",
    "                X_get.append(X[i])\n",
    "                y_get.append(y[i])\n",
    "                s_get.append(s[i])\n",
    "                \n",
    "    return np.array(X_get), np.array(y_get), np.array(s_get)"
   ]
  },
  {
   "cell_type": "code",
   "execution_count": 95,
   "metadata": {
    "collapsed": true
   },
   "outputs": [],
   "source": [
    "X_train2, y_train2, s_train = get_X_y(subj_train, X_all, y_all, subj_all)\n",
    "X_val, y_val, s_val = get_X_y(subj_val, X_all, y_all, subj_all)\n",
    "X_test2, y_test2, s_test = get_X_y(subj_test, X_all, y_all, subj_all)"
   ]
  },
  {
   "cell_type": "code",
   "execution_count": 96,
   "metadata": {
    "collapsed": true
   },
   "outputs": [],
   "source": [
    "def prepare_pure(X, y, subj_all, new_label_list):\n",
    "    X_label, y_label = label_grouping(X, y, subj_all, new_label_list)\n",
    "    \n",
    "    X_concat = []\n",
    "    y_concat = []\n",
    "    for i in range(len(X_label)):\n",
    "        for j in range(len(X_label[i])):\n",
    "            X_ol, y_ol = make_overlapping(np.array(X_label[i][j]), y_label[i][j])\n",
    "#             print(i, j, X_ol.shape)\n",
    "            \n",
    "            if(len(X_concat)==0):\n",
    "                X_concat = X_ol\n",
    "            else:\n",
    "                X_concat = np.vstack((X_concat, X_ol))\n",
    "\n",
    "            if(len(y_concat)==0):\n",
    "                y_concat = y_ol\n",
    "            else:\n",
    "                y_concat = np.hstack((y_concat, y_ol))\n",
    "                \n",
    "#     X_concat_xyz = concat_xyz(X_concat)\n",
    "    \n",
    "    return X_concat, y_concat    "
   ]
  },
  {
   "cell_type": "code",
   "execution_count": 97,
   "metadata": {
    "collapsed": true
   },
   "outputs": [],
   "source": [
    "X_label, y_label = label_grouping(X_train2, y_train2, s_train, label_list)"
   ]
  },
  {
   "cell_type": "code",
   "execution_count": 98,
   "metadata": {},
   "outputs": [
    {
     "name": "stdout",
     "output_type": "stream",
     "text": [
      "(10042, 3) (10042,) (10042,)\n"
     ]
    }
   ],
   "source": [
    "print(X_train2.shape,y_train2.shape,s_train.shape)"
   ]
  },
  {
   "cell_type": "code",
   "execution_count": 99,
   "metadata": {
    "collapsed": true
   },
   "outputs": [],
   "source": [
    "label_list = [0,1,2,3]\n",
    "label_dict = {\n",
    "    0: 'sit',\n",
    "    1: 'sleep',\n",
    "    2: 'stand',\n",
    "    3: 'walk'\n",
    "}\n",
    "\n",
    "all_subjects = subj_train\n",
    "X_train_pure, y_train_pure = prepare_pure(X_train2, y_train2, s_train, label_list)\n",
    "\n",
    "all_subjects = subj_val\n",
    "X_val_pure, y_val_pure = prepare_pure(X_val, y_val, s_val, label_list)\n",
    "\n",
    "\n",
    "all_subjects = subj_test\n",
    "X_test_pure, y_test_pure = prepare_pure(X_test2, y_test2, s_test, label_list)"
   ]
  },
  {
   "cell_type": "code",
   "execution_count": 100,
   "metadata": {},
   "outputs": [
    {
     "name": "stdout",
     "output_type": "stream",
     "text": [
      "5275\n",
      "5275\n"
     ]
    }
   ],
   "source": [
    "VAL_LEN = X_val_pure.shape[0]\n",
    "X_train_pure = X_train_pure[:VAL_LEN]\n",
    "y_train_pure = y_train_pure[:VAL_LEN]\n",
    "\n",
    "print(VAL_LEN)\n",
    "print(y_train_pure.shape[0])"
   ]
  },
  {
   "cell_type": "code",
   "execution_count": 101,
   "metadata": {
    "collapsed": true
   },
   "outputs": [],
   "source": [
    "LABEL_COUNT = 4"
   ]
  },
  {
   "cell_type": "code",
   "execution_count": 102,
   "metadata": {
    "collapsed": true
   },
   "outputs": [],
   "source": [
    "def reshape_y(y):\n",
    "    \n",
    "    y_rs_ = label_binarize(y, classes=[0,1,2,3])\n",
    "    \n",
    "    y_rs = []\n",
    "    #for i in range(len(y_rs_)):\n",
    "     #   y_temp = []\n",
    "      #  for j in range(window_length):\n",
    "       #     y_temp.append(y_rs_[i])\n",
    "            \n",
    "       # y_rs.append(np.array(y_temp))\n",
    "        \n",
    "    y_rs = np.array(y_rs_)\n",
    "    y_rs = y_rs.reshape((y_rs.shape[0],LABEL_COUNT))\n",
    "        \n",
    "    return np.array(y_rs)"
   ]
  },
  {
   "cell_type": "code",
   "execution_count": 103,
   "metadata": {
    "collapsed": true
   },
   "outputs": [],
   "source": [
    "def reshape_X(X):\n",
    "    X_rs = X.reshape((X.shape[0],1,X.shape[1]))\n",
    "    return X_rs"
   ]
  },
  {
   "cell_type": "code",
   "execution_count": 104,
   "metadata": {
    "collapsed": true
   },
   "outputs": [],
   "source": [
    "y_train_rs = reshape_y(y_train_pure)\n",
    "y_val_rs = reshape_y(y_val_pure)\n",
    "y_test_rs = reshape_y(y_test_pure)"
   ]
  },
  {
   "cell_type": "code",
   "execution_count": 105,
   "metadata": {},
   "outputs": [
    {
     "name": "stdout",
     "output_type": "stream",
     "text": [
      "(5275, 60, 3)\n",
      "60\n",
      "3\n",
      "(5275, 4)\n",
      "(5275,)\n"
     ]
    }
   ],
   "source": [
    "print(X_train_pure.shape)\n",
    "print(X_train_pure.shape[1])\n",
    "print(X_train_pure.shape[2])\n",
    "print(y_train_rs.shape)\n",
    "print(y_train_pure.shape)"
   ]
  },
  {
   "cell_type": "markdown",
   "metadata": {},
   "source": [
    "## Load model"
   ]
  },
  {
   "cell_type": "code",
   "execution_count": 106,
   "metadata": {
    "collapsed": true
   },
   "outputs": [],
   "source": [
    "model = load_model(\"./model/Arc_model_2.1.h5\")"
   ]
  },
  {
   "cell_type": "code",
   "execution_count": 107,
   "metadata": {
    "collapsed": true
   },
   "outputs": [],
   "source": [
    "adam = optimizers.Adam(lr = 0.001, decay=1e-6)\n",
    "model.compile(loss='categorical_crossentropy', optimizer=adam, metrics=['accuracy'])"
   ]
  },
  {
   "cell_type": "code",
   "execution_count": 108,
   "metadata": {},
   "outputs": [
    {
     "name": "stdout",
     "output_type": "stream",
     "text": [
      "_________________________________________________________________\n",
      "Layer (type)                 Output Shape              Param #   \n",
      "=================================================================\n",
      "input_2 (InputLayer)         (None, 60, 3)             0         \n",
      "_________________________________________________________________\n",
      "conv1d_3 (Conv1D)            (None, 50, 32)            1088      \n",
      "_________________________________________________________________\n",
      "max_pooling1d_3 (MaxPooling1 (None, 25, 32)            0         \n",
      "_________________________________________________________________\n",
      "conv1d_4 (Conv1D)            (None, 15, 32)            11296     \n",
      "_________________________________________________________________\n",
      "max_pooling1d_4 (MaxPooling1 (None, 7, 32)             0         \n",
      "_________________________________________________________________\n",
      "lstm_2 (LSTM)                (None, 128)               82432     \n",
      "_________________________________________________________________\n",
      "dense_3 (Dense)              (None, 256)               33024     \n",
      "_________________________________________________________________\n",
      "dropout_2 (Dropout)          (None, 256)               0         \n",
      "_________________________________________________________________\n",
      "dense_4 (Dense)              (None, 4)                 1028      \n",
      "=================================================================\n",
      "Total params: 128,868\n",
      "Trainable params: 128,868\n",
      "Non-trainable params: 0\n",
      "_________________________________________________________________\n"
     ]
    }
   ],
   "source": [
    "model.summary()"
   ]
  },
  {
   "cell_type": "code",
   "execution_count": 109,
   "metadata": {},
   "outputs": [
    {
     "name": "stdout",
     "output_type": "stream",
     "text": [
      "Train on 5275 samples, validate on 5275 samples\n",
      "Epoch 1/100\n",
      "5216/5275 [============================>.] - ETA: 0s - loss: 0.2888 - acc: 0.8995\n",
      "Epoch 00001: val_acc improved from -inf to 0.60417, saving model to ./model/model_1/model_1.h5\n",
      "5275/5275 [==============================] - 5s 959us/step - loss: 0.2856 - acc: 0.9007 - val_loss: 4.8403 - val_acc: 0.6042\n",
      "Epoch 2/100\n",
      "5216/5275 [============================>.] - ETA: 0s - loss: 0.0388 - acc: 0.9887\n",
      "Epoch 00002: val_acc did not improve\n",
      "5275/5275 [==============================] - 3s 648us/step - loss: 0.0383 - acc: 0.9888 - val_loss: 4.9148 - val_acc: 0.5581\n",
      "Epoch 3/100\n",
      "5184/5275 [============================>.] - ETA: 0s - loss: 0.0118 - acc: 0.9963\n",
      "Epoch 00003: val_acc did not improve\n",
      "5275/5275 [==============================] - 4s 688us/step - loss: 0.0116 - acc: 0.9964 - val_loss: 5.4224 - val_acc: 0.5831\n",
      "Epoch 4/100\n",
      "5216/5275 [============================>.] - ETA: 0s - loss: 0.0299 - acc: 0.9919\n",
      "Epoch 00004: val_acc did not improve\n",
      "5275/5275 [==============================] - 4s 804us/step - loss: 0.0296 - acc: 0.9920 - val_loss: 4.2829 - val_acc: 0.5807\n",
      "Epoch 5/100\n",
      "5184/5275 [============================>.] - ETA: 0s - loss: 0.0091 - acc: 0.9983\n",
      "Epoch 00005: val_acc did not improve\n",
      "5275/5275 [==============================] - 4s 743us/step - loss: 0.0089 - acc: 0.9983 - val_loss: 4.7495 - val_acc: 0.5820\n",
      "Epoch 6/100\n",
      "5216/5275 [============================>.] - ETA: 0s - loss: 0.0076 - acc: 0.9981\n",
      "Epoch 00006: val_acc did not improve\n",
      "5275/5275 [==============================] - 3s 651us/step - loss: 0.0075 - acc: 0.9981 - val_loss: 4.3630 - val_acc: 0.5809\n",
      "Epoch 7/100\n",
      "5216/5275 [============================>.] - ETA: 0s - loss: 0.0170 - acc: 0.9950\n",
      "Epoch 00007: val_acc did not improve\n",
      "5275/5275 [==============================] - 4s 696us/step - loss: 0.0169 - acc: 0.9951 - val_loss: 3.9802 - val_acc: 0.5790\n",
      "Epoch 8/100\n",
      "5184/5275 [============================>.] - ETA: 0s - loss: 0.0013 - acc: 1.0000\n",
      "Epoch 00008: val_acc did not improve\n",
      "5275/5275 [==============================] - 4s 716us/step - loss: 0.0013 - acc: 1.0000 - val_loss: 5.4490 - val_acc: 0.6011\n",
      "Epoch 9/100\n",
      "5216/5275 [============================>.] - ETA: 0s - loss: 3.3024e-04 - acc: 1.0000\n",
      "Epoch 00009: val_acc did not improve\n",
      "5275/5275 [==============================] - 4s 695us/step - loss: 3.2684e-04 - acc: 1.0000 - val_loss: 5.5467 - val_acc: 0.6004\n",
      "Epoch 10/100\n",
      "5248/5275 [============================>.] - ETA: 0s - loss: 6.5266e-05 - acc: 1.0000\n",
      "Epoch 00010: val_acc did not improve\n",
      "5275/5275 [==============================] - 4s 696us/step - loss: 6.5045e-05 - acc: 1.0000 - val_loss: 5.6155 - val_acc: 0.6032\n",
      "Epoch 11/100\n",
      "5248/5275 [============================>.] - ETA: 0s - loss: 4.1590e-05 - acc: 1.0000\n",
      "Epoch 00011: val_acc did not improve\n",
      "5275/5275 [==============================] - 4s 690us/step - loss: 4.1900e-05 - acc: 1.0000 - val_loss: 5.7079 - val_acc: 0.6017\n",
      "Epoch 12/100\n",
      "5152/5275 [============================>.] - ETA: 0s - loss: 2.7441e-05 - acc: 1.0000\n",
      "Epoch 00012: val_acc did not improve\n",
      "\n",
      "Epoch 00012: ReduceLROnPlateau reducing learning rate to 0.00010000000474974513.\n",
      "5275/5275 [==============================] - 4s 747us/step - loss: 2.6919e-05 - acc: 1.0000 - val_loss: 5.7899 - val_acc: 0.5977\n",
      "Epoch 13/100\n",
      "5216/5275 [============================>.] - ETA: 0s - loss: 2.0029e-05 - acc: 1.0000\n",
      "Epoch 00013: val_acc did not improve\n",
      "5275/5275 [==============================] - 4s 691us/step - loss: 2.0093e-05 - acc: 1.0000 - val_loss: 5.7910 - val_acc: 0.5983\n",
      "Epoch 14/100\n",
      "5152/5275 [============================>.] - ETA: 0s - loss: 2.2637e-05 - acc: 1.0000\n",
      "Epoch 00014: val_acc did not improve\n",
      "5275/5275 [==============================] - 4s 704us/step - loss: 2.2287e-05 - acc: 1.0000 - val_loss: 5.7881 - val_acc: 0.5991\n",
      "Epoch 15/100\n",
      "5184/5275 [============================>.] - ETA: 0s - loss: 2.4981e-05 - acc: 1.0000\n",
      "Epoch 00015: val_acc did not improve\n",
      "5275/5275 [==============================] - 4s 684us/step - loss: 2.4672e-05 - acc: 1.0000 - val_loss: 5.7851 - val_acc: 0.5998\n",
      "Epoch 16/100\n",
      "5184/5275 [============================>.] - ETA: 0s - loss: 2.0088e-05 - acc: 1.0000\n",
      "Epoch 00016: val_acc did not improve\n",
      "5275/5275 [==============================] - 4s 710us/step - loss: 1.9854e-05 - acc: 1.0000 - val_loss: 5.7874 - val_acc: 0.5996\n",
      "Epoch 17/100\n",
      "5216/5275 [============================>.] - ETA: 0s - loss: 2.0909e-05 - acc: 1.0000\n",
      "Epoch 00017: val_acc did not improve\n",
      "5275/5275 [==============================] - 4s 804us/step - loss: 2.1092e-05 - acc: 1.0000 - val_loss: 5.7949 - val_acc: 0.5991\n",
      "Epoch 18/100\n",
      "5216/5275 [============================>.] - ETA: 0s - loss: 1.8783e-05 - acc: 1.0000\n",
      "Epoch 00018: val_acc did not improve\n",
      "5275/5275 [==============================] - 4s 684us/step - loss: 1.8639e-05 - acc: 1.0000 - val_loss: 5.7961 - val_acc: 0.5996\n",
      "Epoch 19/100\n",
      "5248/5275 [============================>.] - ETA: 0s - loss: 1.8649e-05 - acc: 1.0000\n",
      "Epoch 00019: val_acc did not improve\n",
      "5275/5275 [==============================] - 4s 670us/step - loss: 1.8663e-05 - acc: 1.0000 - val_loss: 5.7946 - val_acc: 0.6000\n",
      "Epoch 20/100\n",
      "5216/5275 [============================>.] - ETA: 0s - loss: 2.3375e-05 - acc: 1.0000\n",
      "Epoch 00020: val_acc did not improve\n",
      "5275/5275 [==============================] - 3s 659us/step - loss: 2.3161e-05 - acc: 1.0000 - val_loss: 5.7757 - val_acc: 0.6025\n",
      "Epoch 21/100\n",
      "5248/5275 [============================>.] - ETA: 0s - loss: 1.8582e-05 - acc: 1.0000\n",
      "Epoch 00021: val_acc did not improve\n",
      "5275/5275 [==============================] - 3s 659us/step - loss: 1.8501e-05 - acc: 1.0000 - val_loss: 5.7895 - val_acc: 0.6013\n"
     ]
    }
   ],
   "source": [
    "reduce_lr = ReduceLROnPlateau(monitor='val_acc', mode='max', factor=0.1, patience=10,\n",
    "                                verbose=1, cooldown=5, min_lr=0)\n",
    "early_stopper = EarlyStopping(monitor='val_acc', min_delta=0, \n",
    "                           patience=20, verbose=0, mode='max')\n",
    "\n",
    "model_1_path = \"./model/model_1/{}.h5\".format(\"model_1\")\n",
    "checkpoint = ModelCheckpoint(model_1_path, monitor='val_acc', verbose=1,save_best_only=True,save_weights_only=False, mode='max',period=1)\n",
    "callbacks_list = [checkpoint,early_stopper,reduce_lr]\n",
    "\n",
    "history1 = model.fit(X_train_pure, y_train_rs, epochs = 100,  callbacks=callbacks_list, verbose =1 , validation_data=(X_val_pure, y_val_rs))"
   ]
  },
  {
   "cell_type": "markdown",
   "metadata": {},
   "source": [
    "## Plot acc and loss"
   ]
  },
  {
   "cell_type": "code",
   "execution_count": 110,
   "metadata": {},
   "outputs": [
    {
     "data": {
      "image/png": "[encoded data removed]",
      "text/plain": [
       "<Figure size 432x288 with 1 Axes>"
      ]
     },
     "metadata": {},
     "output_type": "display_data"
    }
   ],
   "source": [
    "plt.plot(history1.history['acc'])\n",
    "plt.plot(history1.history['val_acc'])\n",
    "plt.title('model accuracy')\n",
    "plt.ylabel('accuracy')\n",
    "plt.xlabel('epoch')\n",
    "plt.legend(['train', 'test'], loc='upper left')\n",
    "plt.show()"
   ]
  },
  {
   "cell_type": "code",
   "execution_count": 111,
   "metadata": {},
   "outputs": [
    {
     "data": {
      "image/png": "[encoded data removed]",
      "text/plain": [
       "<Figure size 432x288 with 1 Axes>"
      ]
     },
     "metadata": {},
     "output_type": "display_data"
    }
   ],
   "source": [
    "plt.plot(history1.history['loss'])\n",
    "plt.plot(history1.history['val_loss'])\n",
    "plt.title('model loss')\n",
    "plt.ylabel('loss')\n",
    "plt.xlabel('epoch')\n",
    "plt.legend(['train', 'test'], loc='upper left')\n",
    "plt.show()"
   ]
  },
  {
   "cell_type": "markdown",
   "metadata": {},
   "source": [
    "## Predict"
   ]
  },
  {
   "cell_type": "code",
   "execution_count": 112,
   "metadata": {
    "collapsed": true
   },
   "outputs": [],
   "source": [
    "num_classes = 4"
   ]
  },
  {
   "cell_type": "code",
   "execution_count": 113,
   "metadata": {},
   "outputs": [
    {
     "name": "stdout",
     "output_type": "stream",
     "text": [
      "(5274, 4)\n",
      "(5274, 4)\n"
     ]
    }
   ],
   "source": [
    "y_pred2 = model.predict(X_test_pure)\n",
    "print(y_pred2.shape)\n",
    "print(y_test_rs.shape)"
   ]
  },
  {
   "cell_type": "code",
   "execution_count": 114,
   "metadata": {
    "collapsed": true
   },
   "outputs": [],
   "source": [
    "y_pred2 = np.argmax(y_pred2, axis=1)"
   ]
  },
  {
   "cell_type": "code",
   "execution_count": 115,
   "metadata": {},
   "outputs": [
    {
     "name": "stdout",
     "output_type": "stream",
     "text": [
      "(5274,)\n",
      "(5274, 4)\n"
     ]
    }
   ],
   "source": [
    "print(y_pred2.shape)\n",
    "print(y_test_rs.shape)"
   ]
  },
  {
   "cell_type": "code",
   "execution_count": 116,
   "metadata": {
    "collapsed": true
   },
   "outputs": [],
   "source": [
    "y_pred2 = np_utils.to_categorical(y_pred2, num_classes)"
   ]
  },
  {
   "cell_type": "code",
   "execution_count": 117,
   "metadata": {},
   "outputs": [
    {
     "name": "stdout",
     "output_type": "stream",
     "text": [
      "(5274, 4)\n",
      "(5274, 4)\n"
     ]
    }
   ],
   "source": [
    "print(y_pred2.shape)\n",
    "print(y_test_rs.shape)"
   ]
  },
  {
   "cell_type": "code",
   "execution_count": 118,
   "metadata": {
    "collapsed": true
   },
   "outputs": [],
   "source": [
    "y_pred2 = np.array(y_pred2)\n",
    "y_test_rs = np.array(y_test_rs)"
   ]
  },
  {
   "cell_type": "code",
   "execution_count": 119,
   "metadata": {},
   "outputs": [
    {
     "name": "stdout",
     "output_type": "stream",
     "text": [
      "[[ 1.  0.  0.  0.]\n",
      " [ 1.  0.  0.  0.]\n",
      " [ 1.  0.  0.  0.]\n",
      " ..., \n",
      " [ 0.  0.  1.  0.]\n",
      " [ 0.  0.  1.  0.]\n",
      " [ 0.  0.  1.  0.]]\n",
      "[[1 0 0 0]\n",
      " [1 0 0 0]\n",
      " [1 0 0 0]\n",
      " ..., \n",
      " [0 0 0 1]\n",
      " [0 0 0 1]\n",
      " [0 0 0 1]]\n"
     ]
    }
   ],
   "source": [
    "print(y_pred2)\n",
    "print(y_test_rs)"
   ]
  },
  {
   "cell_type": "code",
   "execution_count": 120,
   "metadata": {
    "collapsed": true
   },
   "outputs": [],
   "source": [
    "LABELS = list(label_dict.values())"
   ]
  },
  {
   "cell_type": "markdown",
   "metadata": {},
   "source": [
    "## Visualization"
   ]
  },
  {
   "cell_type": "code",
   "execution_count": 121,
   "metadata": {},
   "outputs": [
    {
     "data": {
      "image/png": "[encoded data removed]",
      "text/plain": [
       "<Figure size 432x288 with 2 Axes>"
      ]
     },
     "metadata": {},
     "output_type": "display_data"
    },
    {
     "data": {
      "image/png": "[encoded data removed]",
      "text/plain": [
       "<Figure size 432x288 with 2 Axes>"
      ]
     },
     "metadata": {},
     "output_type": "display_data"
    }
   ],
   "source": [
    "show_conf_matrix(y_test_rs.argmax(axis=1), y_pred2.argmax(axis=1), LABELS)"
   ]
  },
  {
   "cell_type": "code",
   "execution_count": 122,
   "metadata": {},
   "outputs": [
    {
     "name": "stdout",
     "output_type": "stream",
     "text": [
      "             precision    recall  f1-score   support\n",
      "\n",
      "        sit       0.64      0.65      0.65       983\n",
      "      sleep       0.69      0.61      0.65       950\n",
      "      stand       0.42      1.00      0.60      1449\n",
      "       walk       0.00      0.00      0.00      1892\n",
      "\n",
      "avg / total       0.36      0.51      0.40      5274\n",
      "\n"
     ]
    },
    {
     "name": "stderr",
     "output_type": "stream",
     "text": [
      "C:\\Users\\fifamd\\Anaconda3\\envs\\tf\\lib\\site-packages\\sklearn\\metrics\\classification.py:1135: UndefinedMetricWarning: Precision and F-score are ill-defined and being set to 0.0 in labels with no predicted samples.\n",
      "  'precision', 'predicted', average, warn_for)\n"
     ]
    }
   ],
   "source": [
    "show_clf_report(y_test_rs, y_pred2, LABELS)"
   ]
  }
 ],
 "metadata": {
  "kernelspec": {
   "display_name": "Python (tf)",
   "language": "python",
   "name": "tf"
  },
  "language_info": {
   "codemirror_mode": {
    "name": "ipython",
    "version": 3
   },
   "file_extension": ".py",
   "mimetype": "text/x-python",
   "name": "python",
   "nbconvert_exporter": "python",
   "pygments_lexer": "ipython3",
   "version": "3.6.3"
  }
 },
 "nbformat": 4,
 "nbformat_minor": 2
}
