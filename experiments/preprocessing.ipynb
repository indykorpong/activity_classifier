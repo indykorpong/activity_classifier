{
 "cells": [
  {
   "cell_type": "markdown",
   "metadata": {},
   "source": [
    "# Import Libraries"
   ]
  },
  {
   "cell_type": "code",
   "execution_count": 4,
   "metadata": {
    "collapsed": true
   },
   "outputs": [],
   "source": [
    "import numpy as np\n",
    "\n",
    "from sklearn.svm import LinearSVC\n",
    "from sklearn.preprocessing import MinMaxScaler, label_binarize, LabelEncoder\n",
    "from sklearn.metrics import accuracy_score, confusion_matrix\n",
    "from sklearn.model_selection import train_test_split"
   ]
  },
  {
   "cell_type": "markdown",
   "metadata": {},
   "source": [
    "# Wavelet Denoising"
   ]
  },
  {
   "cell_type": "code",
   "execution_count": 7,
   "metadata": {
    "collapsed": true
   },
   "outputs": [],
   "source": [
    "import pywt\n",
    "\n",
    "from statsmodels.robust import mad"
   ]
  },
  {
   "cell_type": "code",
   "execution_count": 8,
   "metadata": {
    "collapsed": true
   },
   "outputs": [],
   "source": [
    "def wavelet_smooth( x, wavelet=\"db4\", level=1, title=None, color=None ):\n",
    "    # calculate the wavelet coefficients\n",
    "    coeff = pywt.wavedec( x, wavelet, mode=\"periodic\" )\n",
    "    \n",
    "    # calculate a threshold\n",
    "    sigma = mad( coeff[-level] )\n",
    "    \n",
    "    # sqtwolog threshold\n",
    "    uthresh = sigma * np.sqrt( 2*np.log( len( x ) ) )\n",
    "    coeff[1:] = ( pywt.threshold( i, value=uthresh, mode=\"soft\" ) for i in coeff[1:] )\n",
    "    \n",
    "    # reconstruct the signal using the thresholded coefficients\n",
    "    y = pywt.waverec( coeff, wavelet, mode=\"periodic\" )\n",
    "    \n",
    "    f, ax = plt.subplots()\n",
    "    plt.plot(x)\n",
    "    plt.plot(y)\n",
    "    \n",
    "#     plt.show()\n",
    "    plt.close(f)\n",
    "    \n",
    "    return y"
   ]
  },
  {
   "cell_type": "markdown",
   "metadata": {},
   "source": [
    "# Calculate Roll, Pitch, Yaw"
   ]
  },
  {
   "cell_type": "code",
   "execution_count": 1,
   "metadata": {},
   "outputs": [],
   "source": [
    "def calc_rpy(y, colors):\n",
    "    y_t = y.transpose()\n",
    "    \n",
    "    ax = np.array(y_t[0], dtype=np.float32)\n",
    "    ay = np.array(y_t[1], dtype=np.float32)\n",
    "    az = np.array(y_t[2], dtype=np.float32)\n",
    "\n",
    "    rpy = []\n",
    "    rpy_labels = ['pitch','roll','yaw']\n",
    "\n",
    "    pitch = 180 * np.arctan(ax/np.sqrt(ay*ay + az*az))/math.pi\n",
    "    rpy.append(pitch)\n",
    "\n",
    "    roll = 180 * np.arctan(ay/np.sqrt(ax*ax + az*az))/math.pi\n",
    "    rpy.append(roll)\n",
    "\n",
    "    yaw = 180 * np.arctan(az/np.sqrt(ax*ax + ay*ay))/math.pi\n",
    "    rpy.append(yaw)\n",
    "\n",
    "#     figure, axes = plt.subplots(nrows=TRIAXIAL, ncols=1, figsize=(16,15))\n",
    "\n",
    "#     for i in range(TRIAXIAL):\n",
    "#         ax = axes[i]\n",
    "#         ax.plot(rpy[i],color=colors[i] ,label=rpy_labels[i])\n",
    "#         ax.legend(loc='upper right')\n",
    "#         ax.set_ylim(top=95, bottom=-95)\n",
    "#         ax.set_title(rpy_labels[i] + ' for subject id: ' + subject_id)\n",
    "\n",
    "#     figure.savefig(basepath + 'Graphs/' + subject_id + '/' + subject_id + '_ddc_rpy.png', dpi=300) \n",
    "\n",
    "#     plt.show()\n",
    "#     plt.close(figure)\n",
    "\n",
    "    return roll, pitch, yaw"
   ]
  },
  {
   "cell_type": "markdown",
   "metadata": {},
   "source": [
    "# Normalize Data (Z-score)"
   ]
  },
  {
   "cell_type": "code",
   "execution_count": 10,
   "metadata": {
    "collapsed": true
   },
   "outputs": [],
   "source": [
    "from scipy import stats"
   ]
  },
  {
   "cell_type": "code",
   "execution_count": 11,
   "metadata": {
    "collapsed": true
   },
   "outputs": [],
   "source": [
    "def normalize_data(X):\n",
    "    scaler = MinMaxScaler(feature_range=(-1, 1))\n",
    "    X_norm = []\n",
    "    \n",
    "    for i in range(len(X_label)):\n",
    "        X_lb = []\n",
    "        for X_subj in X_label[i]:\n",
    "            X_tp = np.array(X_subj).transpose()\n",
    "            X_a = []\n",
    "            for X_axis in X_tp:\n",
    "                X_n = stats.zscore(X_axis)\n",
    "                X_a.append(X_n)\n",
    "            X_a = np.array(X_a).transpose()\n",
    "            X_lb.append(X_a)\n",
    "            \n",
    "        X_norm.append(X_lb)\n",
    "    \n",
    "    return np.array(X_norm)"
   ]
  },
  {
   "cell_type": "markdown",
   "metadata": {},
   "source": [
    "# PCA, LDA, and SVD"
   ]
  },
  {
   "cell_type": "code",
   "execution_count": 12,
   "metadata": {
    "collapsed": true
   },
   "outputs": [],
   "source": [
    "from sklearn.decomposition import PCA\n",
    "from sklearn.discriminant_analysis import LinearDiscriminantAnalysis\n",
    "\n",
    "from mpl_toolkits.mplot3d import Axes3D"
   ]
  },
  {
   "cell_type": "code",
   "execution_count": 1,
   "metadata": {},
   "outputs": [],
   "source": [
    "def apply_pca(X, y, target_names):\n",
    "    n_comp = 3\n",
    "\n",
    "    pca = PCA(n_components=n_comp)\n",
    "    X_r = pca.fit(X).transform(X)\n",
    "#     print(pca.fit(X).components_)\n",
    "    \n",
    "    lw = 1\n",
    "    fig = plt.figure(figsize=(15,6))\n",
    "    ax = fig.add_subplot(111)\n",
    "    \n",
    "    for color, i, target_name in zip(colors, [0, 1, 2, 3, 4, 5, 6, 7], target_names): \n",
    "        \n",
    "        ax.scatter(X_r[np.where(y==i), 0], X_r[np.where(y==i), 1],\n",
    "                   color=color, alpha=.8, linewidths=lw, label=target_name)\n",
    "        ax.legend(loc='best', shadow=False, scatterpoints=1)\n",
    "\n",
    "    plt.show()\n",
    "    plt.close(fig)\n",
    "\n",
    "    return np.array(X_r), pca"
   ]
  },
  {
   "cell_type": "code",
   "execution_count": 14,
   "metadata": {
    "collapsed": true
   },
   "outputs": [],
   "source": [
    "def apply_lda(X, y, target_names):\n",
    "    n_comp = 3\n",
    "\n",
    "    lda = LinearDiscriminantAnalysis(n_components=n_comp)\n",
    "    X_r = lda.fit(X, y).transform(X)\n",
    "    #   print(X_r.shape)\n",
    "\n",
    "    lw = 1\n",
    "    fig, ax = plt.subplots(figsize=(10,6))\n",
    "\n",
    "    for color, i, target_name in zip(colors, [0, 1, 2, 3, 4, 5], target_names):  \n",
    "        ax.scatter(X_r[np.where(y==i), 0], X_r[np.where(y==i), 1], color=color, alpha=.8, linewidths=lw,\n",
    "                      label=target_name)\n",
    "        ax.legend(loc='best', shadow=False, scatterpoints=1)\n",
    "\n",
    "    plt.show()\n",
    "    plt.close(fig)\n",
    "\n",
    "    return np.array(X_r)"
   ]
  },
  {
   "cell_type": "code",
   "execution_count": 15,
   "metadata": {
    "collapsed": true
   },
   "outputs": [],
   "source": [
    "def apply_svd(X, y, target_names):\n",
    "    u, s, vh = np.linalg.svd(X, full_matrices=False)\n",
    "    return u, s, vh"
   ]
  },
  {
   "cell_type": "markdown",
   "metadata": {},
   "source": [
    "# Support Vector Classifier"
   ]
  },
  {
   "cell_type": "code",
   "execution_count": 16,
   "metadata": {
    "collapsed": true
   },
   "outputs": [],
   "source": [
    "from sklearn.svm import SVC"
   ]
  },
  {
   "cell_type": "code",
   "execution_count": 1,
   "metadata": {},
   "outputs": [],
   "source": [
    "def svm_classifier(X, y):\n",
    "    clf = SVC(kernel='linear', decision_function_shape='ovo', gamma='auto')\n",
    "    clf.fit(X, y)\n",
    "\n",
    "    return clf"
   ]
  },
  {
   "cell_type": "markdown",
   "metadata": {},
   "source": [
    "# K-Nearest Neighbors Classifier"
   ]
  },
  {
   "cell_type": "code",
   "execution_count": 18,
   "metadata": {
    "collapsed": true
   },
   "outputs": [],
   "source": [
    "from sklearn.neighbors import NearestNeighbors\n",
    "from sklearn.neighbors import KDTree\n",
    "from sklearn import neighbors"
   ]
  },
  {
   "cell_type": "code",
   "execution_count": 19,
   "metadata": {
    "collapsed": true
   },
   "outputs": [],
   "source": [
    "def nn_classifier(X, y, k=6):\n",
    "#   print(y.shape)\n",
    "    neighbor = k\n",
    "    clf = neighbors.KNeighborsClassifier(n_neighbors=neighbor, algorithm='ball_tree')\n",
    "    clf.fit(X, y)\n",
    "\n",
    "    return clf"
   ]
  },
  {
   "cell_type": "markdown",
   "metadata": {},
   "source": [
    "# Group X and y by Label and Subject ID"
   ]
  },
  {
   "cell_type": "code",
   "execution_count": 1,
   "metadata": {},
   "outputs": [],
   "source": [
    "TRIAXIAL = 3"
   ]
  },
  {
   "cell_type": "code",
   "execution_count": 20,
   "metadata": {
    "collapsed": true
   },
   "outputs": [],
   "source": [
    "def label_grouping(X, y, subj, all_subjects, lb_list):\n",
    "    X_label = []\n",
    "    y_label = []\n",
    "    \n",
    "    for i in range(len(lb_list)):\n",
    "        X_act = []\n",
    "        y_act = []\n",
    "        for s in range(len(all_subjects)):\n",
    "            X_subj = []\n",
    "            y_subj = []\n",
    "            for j in range(len(y)):\n",
    "                if(y[j]==lb_list[i]):\n",
    "                    if(subj[j]==all_subjects[s]):\n",
    "                        X_subj.append(np.array(X[j]))\n",
    "                        y_subj.append(np.array(y[j]))\n",
    "            \n",
    "            X_act.append(X_subj)\n",
    "            y_act.append(y_subj)\n",
    "            \n",
    "        X_label.append(X_act)\n",
    "        y_label.append(y_act)\n",
    "    \n",
    "    return np.array(X_label), np.array(y_label)"
   ]
  },
  {
   "cell_type": "code",
   "execution_count": 1,
   "metadata": {},
   "outputs": [],
   "source": [
    "def plot_all_label(X, y, lb_list, lb_dict):\n",
    "    \n",
    "    color_subj = ['darkred','crimson','orange','gold','yellow','peachpuff','lime','green','olive','aqua',\n",
    "                  'paleturquoise','teal','dodgerblue','blue','navy','purple','lavender','magenta','mediumslateblue','pink']\n",
    "    \n",
    "    for i in range(len(lb_list)):\n",
    "        f, ax = plt.subplots(nrows=1, ncols=TRIAXIAL, figsize=(15,5))\n",
    "\n",
    "        print(\"plotting \", lb_dict[lb_list[i]])\n",
    "\n",
    "        for j in range(len(all_subjects)):\n",
    "            X_i_tp = np.array(X[i][j]).transpose()\n",
    "            print(X_i_tp.shape)\n",
    "\n",
    "            ax[0].plot(X_i_tp[0], color=color_subj[j], label='x')\n",
    "            ax[0].set_title('X-axis for ' + lb_dict[lb_list[i]])\n",
    "#             ax[0].set_ylim(top=50, bottom=-50)\n",
    "            \n",
    "            ax[1].plot(X_i_tp[1], color=color_subj[j], label='y')\n",
    "            ax[1].set_title('Y-axis for ' + lb_dict[lb_list[i]])\n",
    "#             ax[1].set_ylim(top=50, bottom=-50)\n",
    "\n",
    "            ax[2].plot(X_i_tp[2], color=color_subj[j], label='z')\n",
    "            ax[2].set_title('Z-axis for ' + lb_dict[lb_list[i]])\n",
    "#             ax[2].set_ylim(top=10, bottom=-10)\n",
    "            \n",
    "\n",
    "#         f.savefig(basepath + 'Graphs/all_subjects_' + lb_dict[lb_list[i]] + '.png', dpi=200)\n",
    "        plt.show()\n",
    "        plt.close(f)"
   ]
  },
  {
   "cell_type": "markdown",
   "metadata": {},
   "source": [
    "# Concatenate X,Y,Z Axis into 1 Numpy Array"
   ]
  },
  {
   "cell_type": "code",
   "execution_count": 23,
   "metadata": {
    "collapsed": true
   },
   "outputs": [],
   "source": [
    "def concat_xyz(X):\n",
    "    X_concat = []\n",
    "    for X_i in X:\n",
    "        X_tp = X_i.transpose()\n",
    "        X_stack = np.hstack((X_tp[0],X_tp[1],X_tp[2]))\n",
    "        X_concat.append(X_stack)\n",
    "\n",
    "    return np.array(X_concat)"
   ]
  },
  {
   "cell_type": "code",
   "execution_count": null,
   "metadata": {},
   "outputs": [],
   "source": [
    "def concat_xyz_2(X):\n",
    "    X_concat = []\n",
    "    for X_i in X:\n",
    "        X_tp = X_i.transpose()\n",
    "        X_stack = []\n",
    "        for i in range(X_tp.shape[1]):\n",
    "            for j in range(3):\n",
    "                X_stack.append(X_tp[j][i])\n",
    "#         X_stack = np.hstack((X_tp[0],X_tp[1],X_tp[2]))\n",
    "        \n",
    "        X_stack = np.array(X_stack)\n",
    "        X_concat.append(X_stack)\n",
    "\n",
    "    return np.array(X_concat)"
   ]
  },
  {
   "cell_type": "markdown",
   "metadata": {},
   "source": [
    "# Concatenate X Axis-wise"
   ]
  },
  {
   "cell_type": "code",
   "execution_count": 24,
   "metadata": {
    "collapsed": true
   },
   "outputs": [],
   "source": [
    "def concat_label(X):\n",
    "    X_concat = []\n",
    "    for X_lb in X:\n",
    "        X_temp = []\n",
    "        for i in range(len(X_lb)):\n",
    "            if(i==0):\n",
    "                X_temp = X_lb[i]\n",
    "            else:\n",
    "                X_temp = np.vstack((X_temp, X_lb[i]))\n",
    "                \n",
    "        if(len(X_concat)==0):\n",
    "            X_concat = X_temp\n",
    "        else:\n",
    "            X_concat = np.vstack((X_concat, X_temp))\n",
    "            \n",
    "    return np.array(X_concat)"
   ]
  },
  {
   "cell_type": "markdown",
   "metadata": {
    "collapsed": true
   },
   "source": [
    "# Make Overlapping Time Window"
   ]
  },
  {
   "cell_type": "code",
   "execution_count": 1,
   "metadata": {},
   "outputs": [],
   "source": [
    "def make_overlapping(X, y, window_length = 60):\n",
    "    X_new = []\n",
    "    y_new = []\n",
    "    \n",
    "    X_new = [X[i:i+window_length] for i in range(X.shape[0]) if(i+window_length<X.shape[0])]\n",
    "    y_new = [y[0] for i in range(X.shape[0]) if(i+window_length<X.shape[0])]\n",
    "    \n",
    "    return np.array(X_new), np.array(y_new)"
   ]
  },
  {
   "cell_type": "code",
   "execution_count": null,
   "metadata": {},
   "outputs": [],
   "source": [
    "def make_overlapping_test(X, window_length = 60):\n",
    "    X_new = []\n",
    "    \n",
    "    X_new = [X[i:i+window_length] for i in range(X.shape[0]) if(i+window_length<X.shape[0])]\n",
    "    \n",
    "    return np.array(X_new)"
   ]
  },
  {
   "cell_type": "markdown",
   "metadata": {},
   "source": [
    "# Reshape Data (Pure Label)"
   ]
  },
  {
   "cell_type": "code",
   "execution_count": null,
   "metadata": {},
   "outputs": [],
   "source": [
    "def prepare_pure_label(X, y, subj_all, all_subjects, new_label_list, window_length=60):\n",
    "    n_axis = 3\n",
    "    \n",
    "    X_label, y_label = label_grouping(X, y, subj_all, all_subjects, new_label_list)\n",
    "    range_list = [(window_length*i, window_length*(i+1)) for i in range(n_axis)]\n",
    "    \n",
    "    X_slice = []\n",
    "    y_slice = []\n",
    "    \n",
    "    for i in range(len(X_label)):\n",
    "        X_grouped = np.vstack(X_label[i])\n",
    "        y_grouped = np.hstack(y_label[i])\n",
    "        \n",
    "        X_ol, y_ol = make_overlapping(X_grouped, y_grouped)\n",
    "#         print(X_ol[0])\n",
    "        \n",
    "        for X_ol_i in X_ol:\n",
    "            X_slice_i = np.reshape(X_ol_i, (X_ol_i.size,), order='F')\n",
    "            X_slice.append(np.array(X_slice_i))\n",
    "            \n",
    "            y_slice.append(i)\n",
    "    \n",
    "    X_concat = [item for sublist in X_slice for item in sublist]\n",
    "    \n",
    "    \n",
    "    return np.array(X_slice), np.array(y_slice)"
   ]
  },
  {
   "cell_type": "code",
   "execution_count": null,
   "metadata": {},
   "outputs": [],
   "source": [
    "def prepare_pure_labelWithHR(X, y,hr, subj_all, all_subjects, new_label_list, window_length=60):\n",
    "    n_axis = 3\n",
    "    \n",
    "    df_x = pd.DataFrame(X)\n",
    "    df_hr = pd.DataFrame(hr)\n",
    "    \n",
    "    scaler = MinMaxScaler(feature_range=(50,140))\n",
    "    df_hr = scaler.fit_transform(df_hr)\n",
    "    \n",
    "    df_x['3'] = df_hr\n",
    "    X = np.array(df_x)\n",
    "    \n",
    "    X_label, y_label = label_grouping(X, y, subj_all, all_subjects, new_label_list)\n",
    "    range_list = [(window_length*i, window_length*(i+1)) for i in range(n_axis)]\n",
    "    \n",
    "    X_slice = []\n",
    "    y_slice = []\n",
    "    \n",
    "    for i in range(len(X_label)):\n",
    "        X_grouped = np.vstack(X_label[i])\n",
    "        y_grouped = np.hstack(y_label[i])\n",
    "        \n",
    "        X_ol, y_ol = make_overlapping(X_grouped, y_grouped)\n",
    "#         print(X_ol[0])\n",
    "        \n",
    "        for X_ol_i in X_ol:\n",
    "            X_slice_i = np.reshape(X_ol_i, (X_ol_i.size,), order='F')\n",
    "            X_slice.append(np.array(X_slice_i))\n",
    "            \n",
    "            y_slice.append(i)\n",
    "    \n",
    "    X_concat = [item for sublist in X_slice for item in sublist]\n",
    "    \n",
    "    \n",
    "    return np.array(X_slice), np.array(y_slice)"
   ]
  },
  {
   "cell_type": "markdown",
   "metadata": {},
   "source": [
    "# Reshape Data (Impure Label)"
   ]
  },
  {
   "cell_type": "code",
   "execution_count": 2,
   "metadata": {
    "collapsed": true
   },
   "outputs": [],
   "source": [
    "def prepare_impure_label(X, y):\n",
    "    X_ol, y_ol = make_overlapping(X, y)\n",
    "    X_concat_ol = concat_xyz(X_ol)\n",
    "    \n",
    "    return X_concat_ol, y_ol"
   ]
  },
  {
   "cell_type": "markdown",
   "metadata": {},
   "source": [
    "# Inverse segmentation"
   ]
  },
  {
   "cell_type": "code",
   "execution_count": 1,
   "metadata": {},
   "outputs": [],
   "source": [
    "def inverse_segmentation(xyz, w = 60):\n",
    "    n_axis = 3\n",
    "    xyz_inverse = []\n",
    "    xyz_inv = []\n",
    "    \n",
    "    for a in xyz:\n",
    "        xyz_new = []\n",
    "        for i in range(0, 3*w, w):\n",
    "            xyz_new.append(a[i:i+w])\n",
    "\n",
    "        xyz_inv.append(np.vstack(np.transpose(xyz_new)))\n",
    "    \n",
    "    X_inv = np.vstack(xyz_inv[::60])\n",
    "    \n",
    "    return X_inv"
   ]
  },
  {
   "cell_type": "code",
   "execution_count": 2,
   "metadata": {},
   "outputs": [],
   "source": [
    "label_list = ['sit', 'sleep', 'stand', 'walk']\n",
    "label_dict = {'sit': 0, 'sleep': 1, 'stand': 2, 'walk': 3}\n",
    "LABELS = label_list"
   ]
  }
 ],
 "metadata": {
  "kernelspec": {
   "display_name": "Python 3",
   "language": "python",
   "name": "python3"
  },
  "language_info": {
   "codemirror_mode": {
    "name": "ipython",
    "version": 3
   },
   "file_extension": ".py",
   "mimetype": "text/x-python",
   "name": "python",
   "nbconvert_exporter": "python",
   "pygments_lexer": "ipython3",
   "version": "3.6.8"
  }
 },
 "nbformat": 4,
 "nbformat_minor": 2
}
